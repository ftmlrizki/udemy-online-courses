{
  "nbformat": 4,
  "nbformat_minor": 0,
  "metadata": {
    "colab": {
      "provenance": []
    },
    "kernelspec": {
      "name": "python3",
      "display_name": "Python 3"
    },
    "language_info": {
      "name": "python"
    }
  },
  "cells": [
    {
      "cell_type": "markdown",
      "source": [
        "#**Discover The Most Popular Courses on Udemy**"
      ],
      "metadata": {
        "id": "wH5NsilqcmgC"
      }
    },
    {
      "cell_type": "markdown",
      "source": [
        "Udemy is an online teaching and learning platform that offers both free and paid courses taught by instructors who are generally subject matter experts in their respective fields.\n",
        "\n",
        "We're analyzing which courses and subjects should be promoted more in order to generate more profits each year. Apparently, there are more than ten categories available on Udemy. In this notebook, however, we would limit our analysis to 4 categories."
      ],
      "metadata": {
        "id": "XZoMju4pcxPW"
      }
    },
    {
      "cell_type": "markdown",
      "source": [
        "##**Part 1: Import Data**"
      ],
      "metadata": {
        "id": "WEUy3BGkgI3_"
      }
    },
    {
      "cell_type": "markdown",
      "source": [
        "First, we will import libraries and load our dataset. My dataset is stored in my Google Drive. However, the same dataset is available in [Udemy Courses Dataset in Kaggle](https://www.kaggle.com/datasets/andrewmvd/udemy-courses)"
      ],
      "metadata": {
        "id": "BijiEnX3gNrk"
      }
    },
    {
      "cell_type": "code",
      "source": [
        "# Import Python Libraries\n",
        "\n",
        "import pandas as pd\n",
        "import numpy as np\n",
        "import seaborn as sns\n",
        "import matplotlib \n",
        "import matplotlib.pyplot as plt\n",
        "import plotly.express as px\n",
        "import plotly.graph_objects as go\n",
        "from plotly.subplots import make_subplots\n",
        "from matplotlib import cm\n",
        "import warnings\n",
        "warnings.filterwarnings(\"ignore\")"
      ],
      "metadata": {
        "id": "qdE6gpJkGSi1"
      },
      "execution_count": null,
      "outputs": []
    },
    {
      "cell_type": "code",
      "execution_count": null,
      "metadata": {
        "id": "HkDo1gXeF_9R",
        "colab": {
          "base_uri": "https://localhost:8080/"
        },
        "outputId": "ba638acd-3c24-42a7-cdd1-7002d7b8754a"
      },
      "outputs": [
        {
          "output_type": "stream",
          "name": "stdout",
          "text": [
            "Mounted at /content/drive\n"
          ]
        }
      ],
      "source": [
        "# Import Dataset\n",
        "from google.colab import drive\n",
        "drive.mount('/content/drive')\n"
      ]
    },
    {
      "cell_type": "code",
      "source": [
        "df=pd.read_csv('/content/drive/MyDrive/DATASET EXAMPLE/udemy_courses.csv')"
      ],
      "metadata": {
        "id": "dprUDhEUjaIy"
      },
      "execution_count": null,
      "outputs": []
    },
    {
      "cell_type": "code",
      "source": [
        "df.head(3)"
      ],
      "metadata": {
        "colab": {
          "base_uri": "https://localhost:8080/",
          "height": 309
        },
        "id": "dtBpUvLrGbR0",
        "outputId": "0fd75cf0-f9d6-49ae-8328-9e0018a547e1"
      },
      "execution_count": null,
      "outputs": [
        {
          "output_type": "execute_result",
          "data": {
            "text/plain": [
              "   course_id                                       course_title  \\\n",
              "0    1070968                 Ultimate Investment Banking Course   \n",
              "1    1113822  Complete GST Course & Certification - Grow You...   \n",
              "2    1006314  Financial Modeling for Business Analysts and C...   \n",
              "\n",
              "                                                 url  is_paid  price  \\\n",
              "0  https://www.udemy.com/ultimate-investment-bank...     True    200   \n",
              "1      https://www.udemy.com/goods-and-services-tax/     True     75   \n",
              "2  https://www.udemy.com/financial-modeling-for-b...     True     45   \n",
              "\n",
              "   num_subscribers  num_reviews  num_lectures               level  \\\n",
              "0             2147           23            51          All Levels   \n",
              "1             2792          923           274          All Levels   \n",
              "2             2174           74            51  Intermediate Level   \n",
              "\n",
              "   content_duration   published_timestamp           subject  \n",
              "0               1.5  2017-01-18T20:58:58Z  Business Finance  \n",
              "1              39.0  2017-03-09T16:34:20Z  Business Finance  \n",
              "2               2.5  2016-12-19T19:26:30Z  Business Finance  "
            ],
            "text/html": [
              "\n",
              "  <div id=\"df-8150984e-904a-4e2b-8a40-1871069e7125\">\n",
              "    <div class=\"colab-df-container\">\n",
              "      <div>\n",
              "<style scoped>\n",
              "    .dataframe tbody tr th:only-of-type {\n",
              "        vertical-align: middle;\n",
              "    }\n",
              "\n",
              "    .dataframe tbody tr th {\n",
              "        vertical-align: top;\n",
              "    }\n",
              "\n",
              "    .dataframe thead th {\n",
              "        text-align: right;\n",
              "    }\n",
              "</style>\n",
              "<table border=\"1\" class=\"dataframe\">\n",
              "  <thead>\n",
              "    <tr style=\"text-align: right;\">\n",
              "      <th></th>\n",
              "      <th>course_id</th>\n",
              "      <th>course_title</th>\n",
              "      <th>url</th>\n",
              "      <th>is_paid</th>\n",
              "      <th>price</th>\n",
              "      <th>num_subscribers</th>\n",
              "      <th>num_reviews</th>\n",
              "      <th>num_lectures</th>\n",
              "      <th>level</th>\n",
              "      <th>content_duration</th>\n",
              "      <th>published_timestamp</th>\n",
              "      <th>subject</th>\n",
              "    </tr>\n",
              "  </thead>\n",
              "  <tbody>\n",
              "    <tr>\n",
              "      <th>0</th>\n",
              "      <td>1070968</td>\n",
              "      <td>Ultimate Investment Banking Course</td>\n",
              "      <td>https://www.udemy.com/ultimate-investment-bank...</td>\n",
              "      <td>True</td>\n",
              "      <td>200</td>\n",
              "      <td>2147</td>\n",
              "      <td>23</td>\n",
              "      <td>51</td>\n",
              "      <td>All Levels</td>\n",
              "      <td>1.5</td>\n",
              "      <td>2017-01-18T20:58:58Z</td>\n",
              "      <td>Business Finance</td>\n",
              "    </tr>\n",
              "    <tr>\n",
              "      <th>1</th>\n",
              "      <td>1113822</td>\n",
              "      <td>Complete GST Course &amp; Certification - Grow You...</td>\n",
              "      <td>https://www.udemy.com/goods-and-services-tax/</td>\n",
              "      <td>True</td>\n",
              "      <td>75</td>\n",
              "      <td>2792</td>\n",
              "      <td>923</td>\n",
              "      <td>274</td>\n",
              "      <td>All Levels</td>\n",
              "      <td>39.0</td>\n",
              "      <td>2017-03-09T16:34:20Z</td>\n",
              "      <td>Business Finance</td>\n",
              "    </tr>\n",
              "    <tr>\n",
              "      <th>2</th>\n",
              "      <td>1006314</td>\n",
              "      <td>Financial Modeling for Business Analysts and C...</td>\n",
              "      <td>https://www.udemy.com/financial-modeling-for-b...</td>\n",
              "      <td>True</td>\n",
              "      <td>45</td>\n",
              "      <td>2174</td>\n",
              "      <td>74</td>\n",
              "      <td>51</td>\n",
              "      <td>Intermediate Level</td>\n",
              "      <td>2.5</td>\n",
              "      <td>2016-12-19T19:26:30Z</td>\n",
              "      <td>Business Finance</td>\n",
              "    </tr>\n",
              "  </tbody>\n",
              "</table>\n",
              "</div>\n",
              "      <button class=\"colab-df-convert\" onclick=\"convertToInteractive('df-8150984e-904a-4e2b-8a40-1871069e7125')\"\n",
              "              title=\"Convert this dataframe to an interactive table.\"\n",
              "              style=\"display:none;\">\n",
              "        \n",
              "  <svg xmlns=\"http://www.w3.org/2000/svg\" height=\"24px\"viewBox=\"0 0 24 24\"\n",
              "       width=\"24px\">\n",
              "    <path d=\"M0 0h24v24H0V0z\" fill=\"none\"/>\n",
              "    <path d=\"M18.56 5.44l.94 2.06.94-2.06 2.06-.94-2.06-.94-.94-2.06-.94 2.06-2.06.94zm-11 1L8.5 8.5l.94-2.06 2.06-.94-2.06-.94L8.5 2.5l-.94 2.06-2.06.94zm10 10l.94 2.06.94-2.06 2.06-.94-2.06-.94-.94-2.06-.94 2.06-2.06.94z\"/><path d=\"M17.41 7.96l-1.37-1.37c-.4-.4-.92-.59-1.43-.59-.52 0-1.04.2-1.43.59L10.3 9.45l-7.72 7.72c-.78.78-.78 2.05 0 2.83L4 21.41c.39.39.9.59 1.41.59.51 0 1.02-.2 1.41-.59l7.78-7.78 2.81-2.81c.8-.78.8-2.07 0-2.86zM5.41 20L4 18.59l7.72-7.72 1.47 1.35L5.41 20z\"/>\n",
              "  </svg>\n",
              "      </button>\n",
              "      \n",
              "  <style>\n",
              "    .colab-df-container {\n",
              "      display:flex;\n",
              "      flex-wrap:wrap;\n",
              "      gap: 12px;\n",
              "    }\n",
              "\n",
              "    .colab-df-convert {\n",
              "      background-color: #E8F0FE;\n",
              "      border: none;\n",
              "      border-radius: 50%;\n",
              "      cursor: pointer;\n",
              "      display: none;\n",
              "      fill: #1967D2;\n",
              "      height: 32px;\n",
              "      padding: 0 0 0 0;\n",
              "      width: 32px;\n",
              "    }\n",
              "\n",
              "    .colab-df-convert:hover {\n",
              "      background-color: #E2EBFA;\n",
              "      box-shadow: 0px 1px 2px rgba(60, 64, 67, 0.3), 0px 1px 3px 1px rgba(60, 64, 67, 0.15);\n",
              "      fill: #174EA6;\n",
              "    }\n",
              "\n",
              "    [theme=dark] .colab-df-convert {\n",
              "      background-color: #3B4455;\n",
              "      fill: #D2E3FC;\n",
              "    }\n",
              "\n",
              "    [theme=dark] .colab-df-convert:hover {\n",
              "      background-color: #434B5C;\n",
              "      box-shadow: 0px 1px 3px 1px rgba(0, 0, 0, 0.15);\n",
              "      filter: drop-shadow(0px 1px 2px rgba(0, 0, 0, 0.3));\n",
              "      fill: #FFFFFF;\n",
              "    }\n",
              "  </style>\n",
              "\n",
              "      <script>\n",
              "        const buttonEl =\n",
              "          document.querySelector('#df-8150984e-904a-4e2b-8a40-1871069e7125 button.colab-df-convert');\n",
              "        buttonEl.style.display =\n",
              "          google.colab.kernel.accessAllowed ? 'block' : 'none';\n",
              "\n",
              "        async function convertToInteractive(key) {\n",
              "          const element = document.querySelector('#df-8150984e-904a-4e2b-8a40-1871069e7125');\n",
              "          const dataTable =\n",
              "            await google.colab.kernel.invokeFunction('convertToInteractive',\n",
              "                                                     [key], {});\n",
              "          if (!dataTable) return;\n",
              "\n",
              "          const docLinkHtml = 'Like what you see? Visit the ' +\n",
              "            '<a target=\"_blank\" href=https://colab.research.google.com/notebooks/data_table.ipynb>data table notebook</a>'\n",
              "            + ' to learn more about interactive tables.';\n",
              "          element.innerHTML = '';\n",
              "          dataTable['output_type'] = 'display_data';\n",
              "          await google.colab.output.renderOutput(dataTable, element);\n",
              "          const docLink = document.createElement('div');\n",
              "          docLink.innerHTML = docLinkHtml;\n",
              "          element.appendChild(docLink);\n",
              "        }\n",
              "      </script>\n",
              "    </div>\n",
              "  </div>\n",
              "  "
            ]
          },
          "metadata": {},
          "execution_count": 4
        }
      ]
    },
    {
      "cell_type": "code",
      "source": [
        "df.info()"
      ],
      "metadata": {
        "colab": {
          "base_uri": "https://localhost:8080/"
        },
        "id": "SrShzKpgGelU",
        "outputId": "74afd2b7-506c-442e-e2dd-c7e48c7bf1bc"
      },
      "execution_count": null,
      "outputs": [
        {
          "output_type": "stream",
          "name": "stdout",
          "text": [
            "<class 'pandas.core.frame.DataFrame'>\n",
            "RangeIndex: 3678 entries, 0 to 3677\n",
            "Data columns (total 12 columns):\n",
            " #   Column               Non-Null Count  Dtype  \n",
            "---  ------               --------------  -----  \n",
            " 0   course_id            3678 non-null   int64  \n",
            " 1   course_title         3678 non-null   object \n",
            " 2   url                  3678 non-null   object \n",
            " 3   is_paid              3678 non-null   bool   \n",
            " 4   price                3678 non-null   int64  \n",
            " 5   num_subscribers      3678 non-null   int64  \n",
            " 6   num_reviews          3678 non-null   int64  \n",
            " 7   num_lectures         3678 non-null   int64  \n",
            " 8   level                3678 non-null   object \n",
            " 9   content_duration     3678 non-null   float64\n",
            " 10  published_timestamp  3678 non-null   object \n",
            " 11  subject              3678 non-null   object \n",
            "dtypes: bool(1), float64(1), int64(5), object(5)\n",
            "memory usage: 319.8+ KB\n"
          ]
        }
      ]
    },
    {
      "cell_type": "markdown",
      "source": [
        "\n",
        "Our dataset contains 3.678 rows and 12 columns.\n",
        "Here are the features explanation :\n",
        "\n",
        "1. course_id : id field for courses\n",
        "2. course_title : title field for courses\n",
        "3. url : url field for course page\n",
        "4. is_paid : boolean field - True for Paid and False for Free\n",
        "5. price : price field for course fee\n",
        "6. num_subscribers : demand field for each courses\n",
        "7. num_reviews : review number for each courses\n",
        "8. num_lectures : lecture per course\n",
        "9. level : course level by trainee experience\n",
        "10. content_duration : course duration in hours\n",
        "11. published_timestamp : timestamp field for publication\n",
        "12. subject : course type field"
      ],
      "metadata": {
        "id": "LJS8UrfijRAa"
      }
    },
    {
      "cell_type": "markdown",
      "source": [
        "##**Part 2: Data Pre-processing**"
      ],
      "metadata": {
        "id": "aFH2lahZld0D"
      }
    },
    {
      "cell_type": "markdown",
      "source": [
        "We need to convert some columns and separate the data needed for further analysis. Most important things, we need to check missing values and duplicated rows."
      ],
      "metadata": {
        "id": "EzYaqdi9lelY"
      }
    },
    {
      "cell_type": "code",
      "source": [
        "#Convert Data\n",
        "\n",
        "#'publish_timestamp' column from object to date time\n",
        "df['published_timestamp']=pd.to_datetime(df['published_timestamp'])\n",
        "\n",
        "#making new column 'year' from 'publish_timestamp'\n",
        "df['year']=df['published_timestamp'].dt.year\n",
        "\n",
        "#'course id' column from int to str\n",
        "df['course_id']=(df['course_id']).astype(str)"
      ],
      "metadata": {
        "id": "VWlxmgO-X-JR"
      },
      "execution_count": null,
      "outputs": []
    },
    {
      "cell_type": "code",
      "source": [
        "# Check Missing Values\n",
        "\n",
        "df.isna().sum()"
      ],
      "metadata": {
        "colab": {
          "base_uri": "https://localhost:8080/"
        },
        "id": "TvEhH7UpdjpX",
        "outputId": "40b05d0b-43e3-4493-db01-b8716eab7740"
      },
      "execution_count": null,
      "outputs": [
        {
          "output_type": "execute_result",
          "data": {
            "text/plain": [
              "course_id              0\n",
              "course_title           0\n",
              "url                    0\n",
              "is_paid                0\n",
              "price                  0\n",
              "num_subscribers        0\n",
              "num_reviews            0\n",
              "num_lectures           0\n",
              "level                  0\n",
              "content_duration       0\n",
              "published_timestamp    0\n",
              "subject                0\n",
              "year                   0\n",
              "dtype: int64"
            ]
          },
          "metadata": {},
          "execution_count": 7
        }
      ]
    },
    {
      "cell_type": "code",
      "source": [
        "# Check Duplicate Data\n",
        "\n",
        "df.duplicated().sum()"
      ],
      "metadata": {
        "colab": {
          "base_uri": "https://localhost:8080/"
        },
        "id": "1lBsDq-6eSLM",
        "outputId": "6c685bb3-32a9-49bc-e8d0-fcdbba9bea27"
      },
      "execution_count": null,
      "outputs": [
        {
          "output_type": "execute_result",
          "data": {
            "text/plain": [
              "6"
            ]
          },
          "metadata": {},
          "execution_count": 11
        }
      ]
    },
    {
      "cell_type": "code",
      "source": [
        "df[df.duplicated(keep=False)].sort_values('course_id')"
      ],
      "metadata": {
        "colab": {
          "base_uri": "https://localhost:8080/",
          "height": 975
        },
        "id": "IYYbI-croOh7",
        "outputId": "4b857241-6928-47fc-de95-c7ca7bb33ce7"
      },
      "execution_count": null,
      "outputs": [
        {
          "output_type": "execute_result",
          "data": {
            "text/plain": [
              "     course_id                                       course_title  \\\n",
              "778    1035638                 Understanding Financial Statements   \n",
              "894    1035638                 Understanding Financial Statements   \n",
              "463    1084454                  CFA Level 2- Quantitative Methods   \n",
              "1100   1084454                  CFA Level 2- Quantitative Methods   \n",
              "454    1157298  Introduction to Forex Trading Business For Beg...   \n",
              "788    1157298  Introduction to Forex Trading Business For Beg...   \n",
              "1234    185526                             MicroStation - Células   \n",
              "1473    185526                             MicroStation - Células   \n",
              "2478     28295  Learn Web Designing & HTML5/CSS3 Essentials in...   \n",
              "2561     28295  Learn Web Designing & HTML5/CSS3 Essentials in...   \n",
              "453     837322  Essentials of money value: Get a financial Life !   \n",
              "787     837322  Essentials of money value: Get a financial Life !   \n",
              "\n",
              "                                                    url  is_paid  price  \\\n",
              "778   https://www.udemy.com/understanding-financial-...     True     25   \n",
              "894   https://www.udemy.com/understanding-financial-...     True     25   \n",
              "463   https://www.udemy.com/cfa-level-2-quantitative...     True     40   \n",
              "1100  https://www.udemy.com/cfa-level-2-quantitative...     True     40   \n",
              "454   https://www.udemy.com/introduction-to-forex-tr...     True     20   \n",
              "788   https://www.udemy.com/introduction-to-forex-tr...     True     20   \n",
              "1234        https://www.udemy.com/microstation-celulas/     True     20   \n",
              "1473        https://www.udemy.com/microstation-celulas/     True     20   \n",
              "2478  https://www.udemy.com/build-beautiful-html5-we...     True     75   \n",
              "2561  https://www.udemy.com/build-beautiful-html5-we...     True     75   \n",
              "453    https://www.udemy.com/essentials-of-money-value/     True     20   \n",
              "787    https://www.udemy.com/essentials-of-money-value/     True     20   \n",
              "\n",
              "      num_subscribers  num_reviews  num_lectures           level  \\\n",
              "778                 0            0            10      All Levels   \n",
              "894                 0            0            10      All Levels   \n",
              "463                 0            0            35      All Levels   \n",
              "1100                0            0            35      All Levels   \n",
              "454                 0            0            27  Beginner Level   \n",
              "788                 0            0            27  Beginner Level   \n",
              "1234                0            0             9  Beginner Level   \n",
              "1473                0            0             9  Beginner Level   \n",
              "2478            43285          525            24      All Levels   \n",
              "2561            43285          525            24      All Levels   \n",
              "453                 0            0            20      All Levels   \n",
              "787                 0            0            20      All Levels   \n",
              "\n",
              "      content_duration       published_timestamp           subject  year  \n",
              "778           1.000000 2016-12-15 14:56:17+00:00  Business Finance  2016  \n",
              "894           1.000000 2016-12-15 14:56:17+00:00  Business Finance  2016  \n",
              "463           5.500000 2017-07-02 14:29:35+00:00  Business Finance  2017  \n",
              "1100          5.500000 2017-07-02 14:29:35+00:00  Business Finance  2017  \n",
              "454           1.500000 2017-04-23 16:19:01+00:00  Business Finance  2017  \n",
              "788           1.500000 2017-04-23 16:19:01+00:00  Business Finance  2017  \n",
              "1234          0.616667 2014-04-15 21:48:55+00:00    Graphic Design  2014  \n",
              "1473          0.616667 2014-04-15 21:48:55+00:00    Graphic Design  2014  \n",
              "2478          4.000000 2013-01-03 00:55:31+00:00   Web Development  2013  \n",
              "2561          4.000000 2013-01-03 00:55:31+00:00   Web Development  2013  \n",
              "453           0.616667 2016-05-16 18:28:30+00:00  Business Finance  2016  \n",
              "787           0.616667 2016-05-16 18:28:30+00:00  Business Finance  2016  "
            ],
            "text/html": [
              "\n",
              "  <div id=\"df-3c33b006-2e2c-4be3-989c-3f7276321c26\">\n",
              "    <div class=\"colab-df-container\">\n",
              "      <div>\n",
              "<style scoped>\n",
              "    .dataframe tbody tr th:only-of-type {\n",
              "        vertical-align: middle;\n",
              "    }\n",
              "\n",
              "    .dataframe tbody tr th {\n",
              "        vertical-align: top;\n",
              "    }\n",
              "\n",
              "    .dataframe thead th {\n",
              "        text-align: right;\n",
              "    }\n",
              "</style>\n",
              "<table border=\"1\" class=\"dataframe\">\n",
              "  <thead>\n",
              "    <tr style=\"text-align: right;\">\n",
              "      <th></th>\n",
              "      <th>course_id</th>\n",
              "      <th>course_title</th>\n",
              "      <th>url</th>\n",
              "      <th>is_paid</th>\n",
              "      <th>price</th>\n",
              "      <th>num_subscribers</th>\n",
              "      <th>num_reviews</th>\n",
              "      <th>num_lectures</th>\n",
              "      <th>level</th>\n",
              "      <th>content_duration</th>\n",
              "      <th>published_timestamp</th>\n",
              "      <th>subject</th>\n",
              "      <th>year</th>\n",
              "    </tr>\n",
              "  </thead>\n",
              "  <tbody>\n",
              "    <tr>\n",
              "      <th>778</th>\n",
              "      <td>1035638</td>\n",
              "      <td>Understanding Financial Statements</td>\n",
              "      <td>https://www.udemy.com/understanding-financial-...</td>\n",
              "      <td>True</td>\n",
              "      <td>25</td>\n",
              "      <td>0</td>\n",
              "      <td>0</td>\n",
              "      <td>10</td>\n",
              "      <td>All Levels</td>\n",
              "      <td>1.000000</td>\n",
              "      <td>2016-12-15 14:56:17+00:00</td>\n",
              "      <td>Business Finance</td>\n",
              "      <td>2016</td>\n",
              "    </tr>\n",
              "    <tr>\n",
              "      <th>894</th>\n",
              "      <td>1035638</td>\n",
              "      <td>Understanding Financial Statements</td>\n",
              "      <td>https://www.udemy.com/understanding-financial-...</td>\n",
              "      <td>True</td>\n",
              "      <td>25</td>\n",
              "      <td>0</td>\n",
              "      <td>0</td>\n",
              "      <td>10</td>\n",
              "      <td>All Levels</td>\n",
              "      <td>1.000000</td>\n",
              "      <td>2016-12-15 14:56:17+00:00</td>\n",
              "      <td>Business Finance</td>\n",
              "      <td>2016</td>\n",
              "    </tr>\n",
              "    <tr>\n",
              "      <th>463</th>\n",
              "      <td>1084454</td>\n",
              "      <td>CFA Level 2- Quantitative Methods</td>\n",
              "      <td>https://www.udemy.com/cfa-level-2-quantitative...</td>\n",
              "      <td>True</td>\n",
              "      <td>40</td>\n",
              "      <td>0</td>\n",
              "      <td>0</td>\n",
              "      <td>35</td>\n",
              "      <td>All Levels</td>\n",
              "      <td>5.500000</td>\n",
              "      <td>2017-07-02 14:29:35+00:00</td>\n",
              "      <td>Business Finance</td>\n",
              "      <td>2017</td>\n",
              "    </tr>\n",
              "    <tr>\n",
              "      <th>1100</th>\n",
              "      <td>1084454</td>\n",
              "      <td>CFA Level 2- Quantitative Methods</td>\n",
              "      <td>https://www.udemy.com/cfa-level-2-quantitative...</td>\n",
              "      <td>True</td>\n",
              "      <td>40</td>\n",
              "      <td>0</td>\n",
              "      <td>0</td>\n",
              "      <td>35</td>\n",
              "      <td>All Levels</td>\n",
              "      <td>5.500000</td>\n",
              "      <td>2017-07-02 14:29:35+00:00</td>\n",
              "      <td>Business Finance</td>\n",
              "      <td>2017</td>\n",
              "    </tr>\n",
              "    <tr>\n",
              "      <th>454</th>\n",
              "      <td>1157298</td>\n",
              "      <td>Introduction to Forex Trading Business For Beg...</td>\n",
              "      <td>https://www.udemy.com/introduction-to-forex-tr...</td>\n",
              "      <td>True</td>\n",
              "      <td>20</td>\n",
              "      <td>0</td>\n",
              "      <td>0</td>\n",
              "      <td>27</td>\n",
              "      <td>Beginner Level</td>\n",
              "      <td>1.500000</td>\n",
              "      <td>2017-04-23 16:19:01+00:00</td>\n",
              "      <td>Business Finance</td>\n",
              "      <td>2017</td>\n",
              "    </tr>\n",
              "    <tr>\n",
              "      <th>788</th>\n",
              "      <td>1157298</td>\n",
              "      <td>Introduction to Forex Trading Business For Beg...</td>\n",
              "      <td>https://www.udemy.com/introduction-to-forex-tr...</td>\n",
              "      <td>True</td>\n",
              "      <td>20</td>\n",
              "      <td>0</td>\n",
              "      <td>0</td>\n",
              "      <td>27</td>\n",
              "      <td>Beginner Level</td>\n",
              "      <td>1.500000</td>\n",
              "      <td>2017-04-23 16:19:01+00:00</td>\n",
              "      <td>Business Finance</td>\n",
              "      <td>2017</td>\n",
              "    </tr>\n",
              "    <tr>\n",
              "      <th>1234</th>\n",
              "      <td>185526</td>\n",
              "      <td>MicroStation - Células</td>\n",
              "      <td>https://www.udemy.com/microstation-celulas/</td>\n",
              "      <td>True</td>\n",
              "      <td>20</td>\n",
              "      <td>0</td>\n",
              "      <td>0</td>\n",
              "      <td>9</td>\n",
              "      <td>Beginner Level</td>\n",
              "      <td>0.616667</td>\n",
              "      <td>2014-04-15 21:48:55+00:00</td>\n",
              "      <td>Graphic Design</td>\n",
              "      <td>2014</td>\n",
              "    </tr>\n",
              "    <tr>\n",
              "      <th>1473</th>\n",
              "      <td>185526</td>\n",
              "      <td>MicroStation - Células</td>\n",
              "      <td>https://www.udemy.com/microstation-celulas/</td>\n",
              "      <td>True</td>\n",
              "      <td>20</td>\n",
              "      <td>0</td>\n",
              "      <td>0</td>\n",
              "      <td>9</td>\n",
              "      <td>Beginner Level</td>\n",
              "      <td>0.616667</td>\n",
              "      <td>2014-04-15 21:48:55+00:00</td>\n",
              "      <td>Graphic Design</td>\n",
              "      <td>2014</td>\n",
              "    </tr>\n",
              "    <tr>\n",
              "      <th>2478</th>\n",
              "      <td>28295</td>\n",
              "      <td>Learn Web Designing &amp; HTML5/CSS3 Essentials in...</td>\n",
              "      <td>https://www.udemy.com/build-beautiful-html5-we...</td>\n",
              "      <td>True</td>\n",
              "      <td>75</td>\n",
              "      <td>43285</td>\n",
              "      <td>525</td>\n",
              "      <td>24</td>\n",
              "      <td>All Levels</td>\n",
              "      <td>4.000000</td>\n",
              "      <td>2013-01-03 00:55:31+00:00</td>\n",
              "      <td>Web Development</td>\n",
              "      <td>2013</td>\n",
              "    </tr>\n",
              "    <tr>\n",
              "      <th>2561</th>\n",
              "      <td>28295</td>\n",
              "      <td>Learn Web Designing &amp; HTML5/CSS3 Essentials in...</td>\n",
              "      <td>https://www.udemy.com/build-beautiful-html5-we...</td>\n",
              "      <td>True</td>\n",
              "      <td>75</td>\n",
              "      <td>43285</td>\n",
              "      <td>525</td>\n",
              "      <td>24</td>\n",
              "      <td>All Levels</td>\n",
              "      <td>4.000000</td>\n",
              "      <td>2013-01-03 00:55:31+00:00</td>\n",
              "      <td>Web Development</td>\n",
              "      <td>2013</td>\n",
              "    </tr>\n",
              "    <tr>\n",
              "      <th>453</th>\n",
              "      <td>837322</td>\n",
              "      <td>Essentials of money value: Get a financial Life !</td>\n",
              "      <td>https://www.udemy.com/essentials-of-money-value/</td>\n",
              "      <td>True</td>\n",
              "      <td>20</td>\n",
              "      <td>0</td>\n",
              "      <td>0</td>\n",
              "      <td>20</td>\n",
              "      <td>All Levels</td>\n",
              "      <td>0.616667</td>\n",
              "      <td>2016-05-16 18:28:30+00:00</td>\n",
              "      <td>Business Finance</td>\n",
              "      <td>2016</td>\n",
              "    </tr>\n",
              "    <tr>\n",
              "      <th>787</th>\n",
              "      <td>837322</td>\n",
              "      <td>Essentials of money value: Get a financial Life !</td>\n",
              "      <td>https://www.udemy.com/essentials-of-money-value/</td>\n",
              "      <td>True</td>\n",
              "      <td>20</td>\n",
              "      <td>0</td>\n",
              "      <td>0</td>\n",
              "      <td>20</td>\n",
              "      <td>All Levels</td>\n",
              "      <td>0.616667</td>\n",
              "      <td>2016-05-16 18:28:30+00:00</td>\n",
              "      <td>Business Finance</td>\n",
              "      <td>2016</td>\n",
              "    </tr>\n",
              "  </tbody>\n",
              "</table>\n",
              "</div>\n",
              "      <button class=\"colab-df-convert\" onclick=\"convertToInteractive('df-3c33b006-2e2c-4be3-989c-3f7276321c26')\"\n",
              "              title=\"Convert this dataframe to an interactive table.\"\n",
              "              style=\"display:none;\">\n",
              "        \n",
              "  <svg xmlns=\"http://www.w3.org/2000/svg\" height=\"24px\"viewBox=\"0 0 24 24\"\n",
              "       width=\"24px\">\n",
              "    <path d=\"M0 0h24v24H0V0z\" fill=\"none\"/>\n",
              "    <path d=\"M18.56 5.44l.94 2.06.94-2.06 2.06-.94-2.06-.94-.94-2.06-.94 2.06-2.06.94zm-11 1L8.5 8.5l.94-2.06 2.06-.94-2.06-.94L8.5 2.5l-.94 2.06-2.06.94zm10 10l.94 2.06.94-2.06 2.06-.94-2.06-.94-.94-2.06-.94 2.06-2.06.94z\"/><path d=\"M17.41 7.96l-1.37-1.37c-.4-.4-.92-.59-1.43-.59-.52 0-1.04.2-1.43.59L10.3 9.45l-7.72 7.72c-.78.78-.78 2.05 0 2.83L4 21.41c.39.39.9.59 1.41.59.51 0 1.02-.2 1.41-.59l7.78-7.78 2.81-2.81c.8-.78.8-2.07 0-2.86zM5.41 20L4 18.59l7.72-7.72 1.47 1.35L5.41 20z\"/>\n",
              "  </svg>\n",
              "      </button>\n",
              "      \n",
              "  <style>\n",
              "    .colab-df-container {\n",
              "      display:flex;\n",
              "      flex-wrap:wrap;\n",
              "      gap: 12px;\n",
              "    }\n",
              "\n",
              "    .colab-df-convert {\n",
              "      background-color: #E8F0FE;\n",
              "      border: none;\n",
              "      border-radius: 50%;\n",
              "      cursor: pointer;\n",
              "      display: none;\n",
              "      fill: #1967D2;\n",
              "      height: 32px;\n",
              "      padding: 0 0 0 0;\n",
              "      width: 32px;\n",
              "    }\n",
              "\n",
              "    .colab-df-convert:hover {\n",
              "      background-color: #E2EBFA;\n",
              "      box-shadow: 0px 1px 2px rgba(60, 64, 67, 0.3), 0px 1px 3px 1px rgba(60, 64, 67, 0.15);\n",
              "      fill: #174EA6;\n",
              "    }\n",
              "\n",
              "    [theme=dark] .colab-df-convert {\n",
              "      background-color: #3B4455;\n",
              "      fill: #D2E3FC;\n",
              "    }\n",
              "\n",
              "    [theme=dark] .colab-df-convert:hover {\n",
              "      background-color: #434B5C;\n",
              "      box-shadow: 0px 1px 3px 1px rgba(0, 0, 0, 0.15);\n",
              "      filter: drop-shadow(0px 1px 2px rgba(0, 0, 0, 0.3));\n",
              "      fill: #FFFFFF;\n",
              "    }\n",
              "  </style>\n",
              "\n",
              "      <script>\n",
              "        const buttonEl =\n",
              "          document.querySelector('#df-3c33b006-2e2c-4be3-989c-3f7276321c26 button.colab-df-convert');\n",
              "        buttonEl.style.display =\n",
              "          google.colab.kernel.accessAllowed ? 'block' : 'none';\n",
              "\n",
              "        async function convertToInteractive(key) {\n",
              "          const element = document.querySelector('#df-3c33b006-2e2c-4be3-989c-3f7276321c26');\n",
              "          const dataTable =\n",
              "            await google.colab.kernel.invokeFunction('convertToInteractive',\n",
              "                                                     [key], {});\n",
              "          if (!dataTable) return;\n",
              "\n",
              "          const docLinkHtml = 'Like what you see? Visit the ' +\n",
              "            '<a target=\"_blank\" href=https://colab.research.google.com/notebooks/data_table.ipynb>data table notebook</a>'\n",
              "            + ' to learn more about interactive tables.';\n",
              "          element.innerHTML = '';\n",
              "          dataTable['output_type'] = 'display_data';\n",
              "          await google.colab.output.renderOutput(dataTable, element);\n",
              "          const docLink = document.createElement('div');\n",
              "          docLink.innerHTML = docLinkHtml;\n",
              "          element.appendChild(docLink);\n",
              "        }\n",
              "      </script>\n",
              "    </div>\n",
              "  </div>\n",
              "  "
            ]
          },
          "metadata": {},
          "execution_count": 12
        }
      ]
    },
    {
      "cell_type": "code",
      "source": [
        "# Drop Duplicated Rows\n",
        "df_update = df.drop_duplicates()"
      ],
      "metadata": {
        "id": "It7k0H2PpRFr"
      },
      "execution_count": null,
      "outputs": []
    },
    {
      "cell_type": "code",
      "source": [
        "# Sanity Check\n",
        "df_update.duplicated().sum()"
      ],
      "metadata": {
        "colab": {
          "base_uri": "https://localhost:8080/"
        },
        "id": "h3xz_jUHpZPl",
        "outputId": "b8324a0c-d4ea-4461-b3d0-fa00c3251358"
      },
      "execution_count": null,
      "outputs": [
        {
          "output_type": "execute_result",
          "data": {
            "text/plain": [
              "0"
            ]
          },
          "metadata": {},
          "execution_count": 14
        }
      ]
    },
    {
      "cell_type": "markdown",
      "source": [
        "It turns out that the dataset contains 6 duplicated rows, which we must remove. Fortunately, there are no missing values."
      ],
      "metadata": {
        "id": "rskeoBprpd4e"
      }
    },
    {
      "cell_type": "markdown",
      "source": [
        "##**Part 3: Data Understanding**"
      ],
      "metadata": {
        "id": "Zas5uNHApyUs"
      }
    },
    {
      "cell_type": "markdown",
      "source": [
        "In this part, we are taking a look at the data. First, we divide numerical and categorical data. We won't include some columns, such as course id, course title and url. In addition, we also add a new columns, which is \"year\"."
      ],
      "metadata": {
        "id": "lMmWOhK9mxqm"
      }
    },
    {
      "cell_type": "code",
      "source": [
        "categoricals = ['is_paid', 'level', 'subject']\n",
        "\n",
        "numericals = ['price', 'num_subscribers', 'num_reviews', 'num_lectures','content_duration','year']"
      ],
      "metadata": {
        "id": "VPXlx0Odqh_I"
      },
      "execution_count": null,
      "outputs": []
    },
    {
      "cell_type": "code",
      "source": [
        "#Statistical Summary\n",
        "df_update[numericals].describe()"
      ],
      "metadata": {
        "colab": {
          "base_uri": "https://localhost:8080/",
          "height": 300
        },
        "id": "wNu-bC4VGjcs",
        "outputId": "33b9578e-1647-4550-8853-d2fe001f60ed"
      },
      "execution_count": null,
      "outputs": [
        {
          "output_type": "execute_result",
          "data": {
            "text/plain": [
              "             price  num_subscribers   num_reviews  num_lectures  \\\n",
              "count  3672.000000      3672.000000   3672.000000   3672.000000   \n",
              "mean     66.102941      3190.586874    156.371460     40.140251   \n",
              "std      61.035920      9488.105448    936.178649     50.417102   \n",
              "min       0.000000         0.000000      0.000000      0.000000   \n",
              "25%      20.000000       111.750000      4.000000     15.000000   \n",
              "50%      45.000000       912.000000     18.000000     25.000000   \n",
              "75%      95.000000      2548.750000     67.000000     46.000000   \n",
              "max     200.000000    268923.000000  27445.000000    779.000000   \n",
              "\n",
              "       content_duration         year  \n",
              "count       3672.000000  3672.000000  \n",
              "mean           4.097603  2015.431100  \n",
              "std            6.057830     1.184731  \n",
              "min            0.000000  2011.000000  \n",
              "25%            1.000000  2015.000000  \n",
              "50%            2.000000  2016.000000  \n",
              "75%            4.500000  2016.000000  \n",
              "max           78.500000  2017.000000  "
            ],
            "text/html": [
              "\n",
              "  <div id=\"df-4be8ffd4-639b-4b42-aad1-c95f581b65e2\">\n",
              "    <div class=\"colab-df-container\">\n",
              "      <div>\n",
              "<style scoped>\n",
              "    .dataframe tbody tr th:only-of-type {\n",
              "        vertical-align: middle;\n",
              "    }\n",
              "\n",
              "    .dataframe tbody tr th {\n",
              "        vertical-align: top;\n",
              "    }\n",
              "\n",
              "    .dataframe thead th {\n",
              "        text-align: right;\n",
              "    }\n",
              "</style>\n",
              "<table border=\"1\" class=\"dataframe\">\n",
              "  <thead>\n",
              "    <tr style=\"text-align: right;\">\n",
              "      <th></th>\n",
              "      <th>price</th>\n",
              "      <th>num_subscribers</th>\n",
              "      <th>num_reviews</th>\n",
              "      <th>num_lectures</th>\n",
              "      <th>content_duration</th>\n",
              "      <th>year</th>\n",
              "    </tr>\n",
              "  </thead>\n",
              "  <tbody>\n",
              "    <tr>\n",
              "      <th>count</th>\n",
              "      <td>3672.000000</td>\n",
              "      <td>3672.000000</td>\n",
              "      <td>3672.000000</td>\n",
              "      <td>3672.000000</td>\n",
              "      <td>3672.000000</td>\n",
              "      <td>3672.000000</td>\n",
              "    </tr>\n",
              "    <tr>\n",
              "      <th>mean</th>\n",
              "      <td>66.102941</td>\n",
              "      <td>3190.586874</td>\n",
              "      <td>156.371460</td>\n",
              "      <td>40.140251</td>\n",
              "      <td>4.097603</td>\n",
              "      <td>2015.431100</td>\n",
              "    </tr>\n",
              "    <tr>\n",
              "      <th>std</th>\n",
              "      <td>61.035920</td>\n",
              "      <td>9488.105448</td>\n",
              "      <td>936.178649</td>\n",
              "      <td>50.417102</td>\n",
              "      <td>6.057830</td>\n",
              "      <td>1.184731</td>\n",
              "    </tr>\n",
              "    <tr>\n",
              "      <th>min</th>\n",
              "      <td>0.000000</td>\n",
              "      <td>0.000000</td>\n",
              "      <td>0.000000</td>\n",
              "      <td>0.000000</td>\n",
              "      <td>0.000000</td>\n",
              "      <td>2011.000000</td>\n",
              "    </tr>\n",
              "    <tr>\n",
              "      <th>25%</th>\n",
              "      <td>20.000000</td>\n",
              "      <td>111.750000</td>\n",
              "      <td>4.000000</td>\n",
              "      <td>15.000000</td>\n",
              "      <td>1.000000</td>\n",
              "      <td>2015.000000</td>\n",
              "    </tr>\n",
              "    <tr>\n",
              "      <th>50%</th>\n",
              "      <td>45.000000</td>\n",
              "      <td>912.000000</td>\n",
              "      <td>18.000000</td>\n",
              "      <td>25.000000</td>\n",
              "      <td>2.000000</td>\n",
              "      <td>2016.000000</td>\n",
              "    </tr>\n",
              "    <tr>\n",
              "      <th>75%</th>\n",
              "      <td>95.000000</td>\n",
              "      <td>2548.750000</td>\n",
              "      <td>67.000000</td>\n",
              "      <td>46.000000</td>\n",
              "      <td>4.500000</td>\n",
              "      <td>2016.000000</td>\n",
              "    </tr>\n",
              "    <tr>\n",
              "      <th>max</th>\n",
              "      <td>200.000000</td>\n",
              "      <td>268923.000000</td>\n",
              "      <td>27445.000000</td>\n",
              "      <td>779.000000</td>\n",
              "      <td>78.500000</td>\n",
              "      <td>2017.000000</td>\n",
              "    </tr>\n",
              "  </tbody>\n",
              "</table>\n",
              "</div>\n",
              "      <button class=\"colab-df-convert\" onclick=\"convertToInteractive('df-4be8ffd4-639b-4b42-aad1-c95f581b65e2')\"\n",
              "              title=\"Convert this dataframe to an interactive table.\"\n",
              "              style=\"display:none;\">\n",
              "        \n",
              "  <svg xmlns=\"http://www.w3.org/2000/svg\" height=\"24px\"viewBox=\"0 0 24 24\"\n",
              "       width=\"24px\">\n",
              "    <path d=\"M0 0h24v24H0V0z\" fill=\"none\"/>\n",
              "    <path d=\"M18.56 5.44l.94 2.06.94-2.06 2.06-.94-2.06-.94-.94-2.06-.94 2.06-2.06.94zm-11 1L8.5 8.5l.94-2.06 2.06-.94-2.06-.94L8.5 2.5l-.94 2.06-2.06.94zm10 10l.94 2.06.94-2.06 2.06-.94-2.06-.94-.94-2.06-.94 2.06-2.06.94z\"/><path d=\"M17.41 7.96l-1.37-1.37c-.4-.4-.92-.59-1.43-.59-.52 0-1.04.2-1.43.59L10.3 9.45l-7.72 7.72c-.78.78-.78 2.05 0 2.83L4 21.41c.39.39.9.59 1.41.59.51 0 1.02-.2 1.41-.59l7.78-7.78 2.81-2.81c.8-.78.8-2.07 0-2.86zM5.41 20L4 18.59l7.72-7.72 1.47 1.35L5.41 20z\"/>\n",
              "  </svg>\n",
              "      </button>\n",
              "      \n",
              "  <style>\n",
              "    .colab-df-container {\n",
              "      display:flex;\n",
              "      flex-wrap:wrap;\n",
              "      gap: 12px;\n",
              "    }\n",
              "\n",
              "    .colab-df-convert {\n",
              "      background-color: #E8F0FE;\n",
              "      border: none;\n",
              "      border-radius: 50%;\n",
              "      cursor: pointer;\n",
              "      display: none;\n",
              "      fill: #1967D2;\n",
              "      height: 32px;\n",
              "      padding: 0 0 0 0;\n",
              "      width: 32px;\n",
              "    }\n",
              "\n",
              "    .colab-df-convert:hover {\n",
              "      background-color: #E2EBFA;\n",
              "      box-shadow: 0px 1px 2px rgba(60, 64, 67, 0.3), 0px 1px 3px 1px rgba(60, 64, 67, 0.15);\n",
              "      fill: #174EA6;\n",
              "    }\n",
              "\n",
              "    [theme=dark] .colab-df-convert {\n",
              "      background-color: #3B4455;\n",
              "      fill: #D2E3FC;\n",
              "    }\n",
              "\n",
              "    [theme=dark] .colab-df-convert:hover {\n",
              "      background-color: #434B5C;\n",
              "      box-shadow: 0px 1px 3px 1px rgba(0, 0, 0, 0.15);\n",
              "      filter: drop-shadow(0px 1px 2px rgba(0, 0, 0, 0.3));\n",
              "      fill: #FFFFFF;\n",
              "    }\n",
              "  </style>\n",
              "\n",
              "      <script>\n",
              "        const buttonEl =\n",
              "          document.querySelector('#df-4be8ffd4-639b-4b42-aad1-c95f581b65e2 button.colab-df-convert');\n",
              "        buttonEl.style.display =\n",
              "          google.colab.kernel.accessAllowed ? 'block' : 'none';\n",
              "\n",
              "        async function convertToInteractive(key) {\n",
              "          const element = document.querySelector('#df-4be8ffd4-639b-4b42-aad1-c95f581b65e2');\n",
              "          const dataTable =\n",
              "            await google.colab.kernel.invokeFunction('convertToInteractive',\n",
              "                                                     [key], {});\n",
              "          if (!dataTable) return;\n",
              "\n",
              "          const docLinkHtml = 'Like what you see? Visit the ' +\n",
              "            '<a target=\"_blank\" href=https://colab.research.google.com/notebooks/data_table.ipynb>data table notebook</a>'\n",
              "            + ' to learn more about interactive tables.';\n",
              "          element.innerHTML = '';\n",
              "          dataTable['output_type'] = 'display_data';\n",
              "          await google.colab.output.renderOutput(dataTable, element);\n",
              "          const docLink = document.createElement('div');\n",
              "          docLink.innerHTML = docLinkHtml;\n",
              "          element.appendChild(docLink);\n",
              "        }\n",
              "      </script>\n",
              "    </div>\n",
              "  </div>\n",
              "  "
            ]
          },
          "metadata": {},
          "execution_count": 16
        }
      ]
    },
    {
      "cell_type": "markdown",
      "source": [
        "From this statistical summary, we can see that overall the minimum and maximum values make sense for each column, except content_duration and num_lectures with minimum values = 0.\n",
        "\n",
        "Meanwhile, the main inference that we can get here is, for most of the columns, the mean value is larger than median value (50th percentile: 50%). This is an indication that those features have a right skewed data. This information will be visible for us when we create distribution plot for individual features in Data Visualization part.\n"
      ],
      "metadata": {
        "id": "Y1YjkqmFocYo"
      }
    },
    {
      "cell_type": "code",
      "source": [
        "df_update[(df_update['content_duration']==0.00)&(df_update['num_lectures']==0.00)]"
      ],
      "metadata": {
        "colab": {
          "base_uri": "https://localhost:8080/",
          "height": 177
        },
        "id": "-NjQSyI72fMb",
        "outputId": "d194a8a4-80f8-4a6a-eda2-eb39c4ed8764"
      },
      "execution_count": null,
      "outputs": [
        {
          "output_type": "execute_result",
          "data": {
            "text/plain": [
              "    course_id                                       course_title  \\\n",
              "892    627332  Mutual Funds for Investors in Retirement Accounts   \n",
              "\n",
              "                                                   url  is_paid  price  \\\n",
              "892  https://www.udemy.com/mutual-funds-for-investo...     True     20   \n",
              "\n",
              "     num_subscribers  num_reviews  num_lectures       level  content_duration  \\\n",
              "892                0            0             0  All Levels               0.0   \n",
              "\n",
              "          published_timestamp           subject  year  \n",
              "892 2015-12-17 05:38:38+00:00  Business Finance  2015  "
            ],
            "text/html": [
              "\n",
              "  <div id=\"df-332f99e9-5261-4ac8-8544-8faf23b223ad\">\n",
              "    <div class=\"colab-df-container\">\n",
              "      <div>\n",
              "<style scoped>\n",
              "    .dataframe tbody tr th:only-of-type {\n",
              "        vertical-align: middle;\n",
              "    }\n",
              "\n",
              "    .dataframe tbody tr th {\n",
              "        vertical-align: top;\n",
              "    }\n",
              "\n",
              "    .dataframe thead th {\n",
              "        text-align: right;\n",
              "    }\n",
              "</style>\n",
              "<table border=\"1\" class=\"dataframe\">\n",
              "  <thead>\n",
              "    <tr style=\"text-align: right;\">\n",
              "      <th></th>\n",
              "      <th>course_id</th>\n",
              "      <th>course_title</th>\n",
              "      <th>url</th>\n",
              "      <th>is_paid</th>\n",
              "      <th>price</th>\n",
              "      <th>num_subscribers</th>\n",
              "      <th>num_reviews</th>\n",
              "      <th>num_lectures</th>\n",
              "      <th>level</th>\n",
              "      <th>content_duration</th>\n",
              "      <th>published_timestamp</th>\n",
              "      <th>subject</th>\n",
              "      <th>year</th>\n",
              "    </tr>\n",
              "  </thead>\n",
              "  <tbody>\n",
              "    <tr>\n",
              "      <th>892</th>\n",
              "      <td>627332</td>\n",
              "      <td>Mutual Funds for Investors in Retirement Accounts</td>\n",
              "      <td>https://www.udemy.com/mutual-funds-for-investo...</td>\n",
              "      <td>True</td>\n",
              "      <td>20</td>\n",
              "      <td>0</td>\n",
              "      <td>0</td>\n",
              "      <td>0</td>\n",
              "      <td>All Levels</td>\n",
              "      <td>0.0</td>\n",
              "      <td>2015-12-17 05:38:38+00:00</td>\n",
              "      <td>Business Finance</td>\n",
              "      <td>2015</td>\n",
              "    </tr>\n",
              "  </tbody>\n",
              "</table>\n",
              "</div>\n",
              "      <button class=\"colab-df-convert\" onclick=\"convertToInteractive('df-332f99e9-5261-4ac8-8544-8faf23b223ad')\"\n",
              "              title=\"Convert this dataframe to an interactive table.\"\n",
              "              style=\"display:none;\">\n",
              "        \n",
              "  <svg xmlns=\"http://www.w3.org/2000/svg\" height=\"24px\"viewBox=\"0 0 24 24\"\n",
              "       width=\"24px\">\n",
              "    <path d=\"M0 0h24v24H0V0z\" fill=\"none\"/>\n",
              "    <path d=\"M18.56 5.44l.94 2.06.94-2.06 2.06-.94-2.06-.94-.94-2.06-.94 2.06-2.06.94zm-11 1L8.5 8.5l.94-2.06 2.06-.94-2.06-.94L8.5 2.5l-.94 2.06-2.06.94zm10 10l.94 2.06.94-2.06 2.06-.94-2.06-.94-.94-2.06-.94 2.06-2.06.94z\"/><path d=\"M17.41 7.96l-1.37-1.37c-.4-.4-.92-.59-1.43-.59-.52 0-1.04.2-1.43.59L10.3 9.45l-7.72 7.72c-.78.78-.78 2.05 0 2.83L4 21.41c.39.39.9.59 1.41.59.51 0 1.02-.2 1.41-.59l7.78-7.78 2.81-2.81c.8-.78.8-2.07 0-2.86zM5.41 20L4 18.59l7.72-7.72 1.47 1.35L5.41 20z\"/>\n",
              "  </svg>\n",
              "      </button>\n",
              "      \n",
              "  <style>\n",
              "    .colab-df-container {\n",
              "      display:flex;\n",
              "      flex-wrap:wrap;\n",
              "      gap: 12px;\n",
              "    }\n",
              "\n",
              "    .colab-df-convert {\n",
              "      background-color: #E8F0FE;\n",
              "      border: none;\n",
              "      border-radius: 50%;\n",
              "      cursor: pointer;\n",
              "      display: none;\n",
              "      fill: #1967D2;\n",
              "      height: 32px;\n",
              "      padding: 0 0 0 0;\n",
              "      width: 32px;\n",
              "    }\n",
              "\n",
              "    .colab-df-convert:hover {\n",
              "      background-color: #E2EBFA;\n",
              "      box-shadow: 0px 1px 2px rgba(60, 64, 67, 0.3), 0px 1px 3px 1px rgba(60, 64, 67, 0.15);\n",
              "      fill: #174EA6;\n",
              "    }\n",
              "\n",
              "    [theme=dark] .colab-df-convert {\n",
              "      background-color: #3B4455;\n",
              "      fill: #D2E3FC;\n",
              "    }\n",
              "\n",
              "    [theme=dark] .colab-df-convert:hover {\n",
              "      background-color: #434B5C;\n",
              "      box-shadow: 0px 1px 3px 1px rgba(0, 0, 0, 0.15);\n",
              "      filter: drop-shadow(0px 1px 2px rgba(0, 0, 0, 0.3));\n",
              "      fill: #FFFFFF;\n",
              "    }\n",
              "  </style>\n",
              "\n",
              "      <script>\n",
              "        const buttonEl =\n",
              "          document.querySelector('#df-332f99e9-5261-4ac8-8544-8faf23b223ad button.colab-df-convert');\n",
              "        buttonEl.style.display =\n",
              "          google.colab.kernel.accessAllowed ? 'block' : 'none';\n",
              "\n",
              "        async function convertToInteractive(key) {\n",
              "          const element = document.querySelector('#df-332f99e9-5261-4ac8-8544-8faf23b223ad');\n",
              "          const dataTable =\n",
              "            await google.colab.kernel.invokeFunction('convertToInteractive',\n",
              "                                                     [key], {});\n",
              "          if (!dataTable) return;\n",
              "\n",
              "          const docLinkHtml = 'Like what you see? Visit the ' +\n",
              "            '<a target=\"_blank\" href=https://colab.research.google.com/notebooks/data_table.ipynb>data table notebook</a>'\n",
              "            + ' to learn more about interactive tables.';\n",
              "          element.innerHTML = '';\n",
              "          dataTable['output_type'] = 'display_data';\n",
              "          await google.colab.output.renderOutput(dataTable, element);\n",
              "          const docLink = document.createElement('div');\n",
              "          docLink.innerHTML = docLinkHtml;\n",
              "          element.appendChild(docLink);\n",
              "        }\n",
              "      </script>\n",
              "    </div>\n",
              "  </div>\n",
              "  "
            ]
          },
          "metadata": {},
          "execution_count": 17
        }
      ]
    },
    {
      "cell_type": "markdown",
      "source": [
        "For curiousity purpose, we did find the 0 hour and lecture course as above. However, since it is only 1 row, most likely it will not affect our analysis."
      ],
      "metadata": {
        "id": "TiP2ohGWoWp4"
      }
    },
    {
      "cell_type": "code",
      "source": [
        "# Describe method on categorical data\n",
        "df_update[categoricals].describe()"
      ],
      "metadata": {
        "colab": {
          "base_uri": "https://localhost:8080/",
          "height": 175
        },
        "id": "UhrnULilsn55",
        "outputId": "cd53e568-7f53-4cef-c58e-1ed4ecc8158b"
      },
      "execution_count": null,
      "outputs": [
        {
          "output_type": "execute_result",
          "data": {
            "text/plain": [
              "       is_paid       level          subject\n",
              "count     3672        3672             3672\n",
              "unique       2           4                4\n",
              "top       True  All Levels  Web Development\n",
              "freq      3362        1925             1199"
            ],
            "text/html": [
              "\n",
              "  <div id=\"df-ade65e8a-2252-40a2-a61b-6376358290b6\">\n",
              "    <div class=\"colab-df-container\">\n",
              "      <div>\n",
              "<style scoped>\n",
              "    .dataframe tbody tr th:only-of-type {\n",
              "        vertical-align: middle;\n",
              "    }\n",
              "\n",
              "    .dataframe tbody tr th {\n",
              "        vertical-align: top;\n",
              "    }\n",
              "\n",
              "    .dataframe thead th {\n",
              "        text-align: right;\n",
              "    }\n",
              "</style>\n",
              "<table border=\"1\" class=\"dataframe\">\n",
              "  <thead>\n",
              "    <tr style=\"text-align: right;\">\n",
              "      <th></th>\n",
              "      <th>is_paid</th>\n",
              "      <th>level</th>\n",
              "      <th>subject</th>\n",
              "    </tr>\n",
              "  </thead>\n",
              "  <tbody>\n",
              "    <tr>\n",
              "      <th>count</th>\n",
              "      <td>3672</td>\n",
              "      <td>3672</td>\n",
              "      <td>3672</td>\n",
              "    </tr>\n",
              "    <tr>\n",
              "      <th>unique</th>\n",
              "      <td>2</td>\n",
              "      <td>4</td>\n",
              "      <td>4</td>\n",
              "    </tr>\n",
              "    <tr>\n",
              "      <th>top</th>\n",
              "      <td>True</td>\n",
              "      <td>All Levels</td>\n",
              "      <td>Web Development</td>\n",
              "    </tr>\n",
              "    <tr>\n",
              "      <th>freq</th>\n",
              "      <td>3362</td>\n",
              "      <td>1925</td>\n",
              "      <td>1199</td>\n",
              "    </tr>\n",
              "  </tbody>\n",
              "</table>\n",
              "</div>\n",
              "      <button class=\"colab-df-convert\" onclick=\"convertToInteractive('df-ade65e8a-2252-40a2-a61b-6376358290b6')\"\n",
              "              title=\"Convert this dataframe to an interactive table.\"\n",
              "              style=\"display:none;\">\n",
              "        \n",
              "  <svg xmlns=\"http://www.w3.org/2000/svg\" height=\"24px\"viewBox=\"0 0 24 24\"\n",
              "       width=\"24px\">\n",
              "    <path d=\"M0 0h24v24H0V0z\" fill=\"none\"/>\n",
              "    <path d=\"M18.56 5.44l.94 2.06.94-2.06 2.06-.94-2.06-.94-.94-2.06-.94 2.06-2.06.94zm-11 1L8.5 8.5l.94-2.06 2.06-.94-2.06-.94L8.5 2.5l-.94 2.06-2.06.94zm10 10l.94 2.06.94-2.06 2.06-.94-2.06-.94-.94-2.06-.94 2.06-2.06.94z\"/><path d=\"M17.41 7.96l-1.37-1.37c-.4-.4-.92-.59-1.43-.59-.52 0-1.04.2-1.43.59L10.3 9.45l-7.72 7.72c-.78.78-.78 2.05 0 2.83L4 21.41c.39.39.9.59 1.41.59.51 0 1.02-.2 1.41-.59l7.78-7.78 2.81-2.81c.8-.78.8-2.07 0-2.86zM5.41 20L4 18.59l7.72-7.72 1.47 1.35L5.41 20z\"/>\n",
              "  </svg>\n",
              "      </button>\n",
              "      \n",
              "  <style>\n",
              "    .colab-df-container {\n",
              "      display:flex;\n",
              "      flex-wrap:wrap;\n",
              "      gap: 12px;\n",
              "    }\n",
              "\n",
              "    .colab-df-convert {\n",
              "      background-color: #E8F0FE;\n",
              "      border: none;\n",
              "      border-radius: 50%;\n",
              "      cursor: pointer;\n",
              "      display: none;\n",
              "      fill: #1967D2;\n",
              "      height: 32px;\n",
              "      padding: 0 0 0 0;\n",
              "      width: 32px;\n",
              "    }\n",
              "\n",
              "    .colab-df-convert:hover {\n",
              "      background-color: #E2EBFA;\n",
              "      box-shadow: 0px 1px 2px rgba(60, 64, 67, 0.3), 0px 1px 3px 1px rgba(60, 64, 67, 0.15);\n",
              "      fill: #174EA6;\n",
              "    }\n",
              "\n",
              "    [theme=dark] .colab-df-convert {\n",
              "      background-color: #3B4455;\n",
              "      fill: #D2E3FC;\n",
              "    }\n",
              "\n",
              "    [theme=dark] .colab-df-convert:hover {\n",
              "      background-color: #434B5C;\n",
              "      box-shadow: 0px 1px 3px 1px rgba(0, 0, 0, 0.15);\n",
              "      filter: drop-shadow(0px 1px 2px rgba(0, 0, 0, 0.3));\n",
              "      fill: #FFFFFF;\n",
              "    }\n",
              "  </style>\n",
              "\n",
              "      <script>\n",
              "        const buttonEl =\n",
              "          document.querySelector('#df-ade65e8a-2252-40a2-a61b-6376358290b6 button.colab-df-convert');\n",
              "        buttonEl.style.display =\n",
              "          google.colab.kernel.accessAllowed ? 'block' : 'none';\n",
              "\n",
              "        async function convertToInteractive(key) {\n",
              "          const element = document.querySelector('#df-ade65e8a-2252-40a2-a61b-6376358290b6');\n",
              "          const dataTable =\n",
              "            await google.colab.kernel.invokeFunction('convertToInteractive',\n",
              "                                                     [key], {});\n",
              "          if (!dataTable) return;\n",
              "\n",
              "          const docLinkHtml = 'Like what you see? Visit the ' +\n",
              "            '<a target=\"_blank\" href=https://colab.research.google.com/notebooks/data_table.ipynb>data table notebook</a>'\n",
              "            + ' to learn more about interactive tables.';\n",
              "          element.innerHTML = '';\n",
              "          dataTable['output_type'] = 'display_data';\n",
              "          await google.colab.output.renderOutput(dataTable, element);\n",
              "          const docLink = document.createElement('div');\n",
              "          docLink.innerHTML = docLinkHtml;\n",
              "          element.appendChild(docLink);\n",
              "        }\n",
              "      </script>\n",
              "    </div>\n",
              "  </div>\n",
              "  "
            ]
          },
          "metadata": {},
          "execution_count": 18
        }
      ]
    },
    {
      "cell_type": "code",
      "source": [
        "for col in categoricals:\n",
        "  print(f\"Value counts of {col} column\")\n",
        "  print(df[col].value_counts(), '\\n')"
      ],
      "metadata": {
        "colab": {
          "base_uri": "https://localhost:8080/"
        },
        "id": "qkWfghanb_J5",
        "outputId": "c1c45707-b2f3-4707-be59-0a71cde67424"
      },
      "execution_count": null,
      "outputs": [
        {
          "output_type": "stream",
          "name": "stdout",
          "text": [
            "Value counts of is_paid column\n",
            "True     3368\n",
            "False     310\n",
            "Name: is_paid, dtype: int64 \n",
            "\n",
            "Value counts of level column\n",
            "All Levels            1929\n",
            "Beginner Level        1270\n",
            "Intermediate Level     421\n",
            "Expert Level            58\n",
            "Name: level, dtype: int64 \n",
            "\n",
            "Value counts of subject column\n",
            "Web Development        1200\n",
            "Business Finance       1195\n",
            "Musical Instruments     680\n",
            "Graphic Design          603\n",
            "Name: subject, dtype: int64 \n",
            "\n"
          ]
        }
      ]
    },
    {
      "cell_type": "markdown",
      "source": [
        "It is shown above the precise value counts for each categorical columns. There is an imbalance in the dataset (number of True(paid) courses is more than number of False(Free) courses). We will use it further to visualize and answer some problem questions."
      ],
      "metadata": {
        "id": "FUGw5QAavTZz"
      }
    },
    {
      "cell_type": "markdown",
      "source": [
        "##**Part 4: Analysis and Visualizations**"
      ],
      "metadata": {
        "id": "gk97T17P6v5h"
      }
    },
    {
      "cell_type": "markdown",
      "source": [
        "**Univariate Analysis**"
      ],
      "metadata": {
        "id": "5uiLVAqAjjI9"
      }
    },
    {
      "cell_type": "code",
      "source": [
        "plt.figure(figsize=(8,6))\n",
        "sns.countplot(data=df_update, x='is_paid')\n",
        "\n",
        "plt.title('Free vs Paid Courses', fontsize=18);"
      ],
      "metadata": {
        "colab": {
          "base_uri": "https://localhost:8080/",
          "height": 409
        },
        "id": "H5qSXlVgcshw",
        "outputId": "5abf3d7b-a25f-4f6e-fbf2-033c2c401cdb"
      },
      "execution_count": null,
      "outputs": [
        {
          "output_type": "display_data",
          "data": {
            "text/plain": [
              "<Figure size 576x432 with 1 Axes>"
            ],
            "image/png": "[encoded data removed]"
          },
          "metadata": {
            "needs_background": "light"
          }
        }
      ]
    },
    {
      "cell_type": "markdown",
      "source": [
        "As we can clearly see, the number of data points with label “True” is higher than label “False”. This means that we have more **paid** courses compared to **free** courses in the dataset, which is actually good for the company's revenue."
      ],
      "metadata": {
        "id": "8-k7lRQuarFi"
      }
    },
    {
      "cell_type": "code",
      "source": [
        "plt.figure(figsize=(8,6))\n",
        "level_count = df_update.groupby(['level'],as_index=False).size()\n",
        "level_count = level_count.sort_values(['size'],ascending=False)\n",
        "sns.barplot(y=level_count['level'], x=level_count['size'])\n",
        "plt.title('Course Level in Udemy', fontsize=18)\n",
        "plt.xlabel('Total Course', fontsize=14)\n",
        "plt.ylabel('Levels', fontsize=14);"
      ],
      "metadata": {
        "colab": {
          "base_uri": "https://localhost:8080/",
          "height": 412
        },
        "id": "av_9iUind-jo",
        "outputId": "a75b777e-75d3-404a-f3ea-cd0dc7442180"
      },
      "execution_count": null,
      "outputs": [
        {
          "output_type": "display_data",
          "data": {
            "text/plain": [
              "<Figure size 576x432 with 1 Axes>"
            ],
            "image/png": "[encoded data removed]"
          },
          "metadata": {
            "needs_background": "light"
          }
        }
      ]
    },
    {
      "cell_type": "markdown",
      "source": [
        "We can clearly see, we have the highest number of **All Levels** courses, followed by **Beginner and Intermediate level** respectively. Meanwhile, we only have a few courses for **Expert** level."
      ],
      "metadata": {
        "id": "t6fM_J_EeKOR"
      }
    },
    {
      "cell_type": "code",
      "source": [
        "plt.figure(figsize=(8,6))\n",
        "subject_count = df_update.groupby(['subject'],as_index=False).size()\n",
        "subject_count = subject_count.sort_values(['size'],ascending=False)\n",
        "sns.barplot(y=subject_count['subject'], x=subject_count['size'])\n",
        "plt.title('Course Subject in Udemy', fontsize=18)\n",
        "plt.xlabel('Total Course', fontsize=14)\n",
        "plt.ylabel('Subjects', fontsize=14);"
      ],
      "metadata": {
        "colab": {
          "base_uri": "https://localhost:8080/",
          "height": 412
        },
        "id": "c42GS64Ni3kV",
        "outputId": "44405025-29b2-44de-a8a2-249afb3751ab"
      },
      "execution_count": null,
      "outputs": [
        {
          "output_type": "display_data",
          "data": {
            "text/plain": [
              "<Figure size 576x432 with 1 Axes>"
            ],
            "image/png": "[encoded data removed]"
          },
          "metadata": {
            "needs_background": "light"
          }
        }
      ]
    },
    {
      "cell_type": "markdown",
      "source": [
        "As we can see from the bar chart above, there is only a slight difference between **Web Development and Business Finance**. Those two subjects dominate our course topics, followed by Musical Instruments and Graphic Design."
      ],
      "metadata": {
        "id": "DLALgl1JjXjl"
      }
    },
    {
      "cell_type": "markdown",
      "source": [
        "**Distribution Plot for Numerical Columns**"
      ],
      "metadata": {
        "id": "nk4cXWdBqpEQ"
      }
    },
    {
      "cell_type": "code",
      "source": [
        "plt.figure(figsize=(20,10))\n",
        "\n",
        "features = numericals\n",
        "for i in range(0, len(features)):\n",
        "    plt.subplot(3, len(features)//3 + 1, i+1)\n",
        "    #plt.subplot(1, len(features), i+1)\n",
        "    sns.distplot(x=df_update[features[i]], color='red')\n",
        "    plt.xlabel(features[i])\n",
        "    plt.tight_layout(pad=1);\n"
      ],
      "metadata": {
        "colab": {
          "base_uri": "https://localhost:8080/",
          "height": 503
        },
        "id": "nWNm12dxqu5o",
        "outputId": "89e38ad6-cc21-477b-e43d-a6ca613ccd9d"
      },
      "execution_count": null,
      "outputs": [
        {
          "output_type": "display_data",
          "data": {
            "text/plain": [
              "<Figure size 1440x720 with 6 Axes>"
            ],
            "image/png": "[encoded data removed]"
          },
          "metadata": {
            "needs_background": "light"
          }
        }
      ]
    },
    {
      "cell_type": "markdown",
      "source": [
        "We can see that most of the columns have right skewness in this dataset, except for 'year' column.\n",
        "\n",
        "**Udemy** \n",
        "- provides courses with a variety of prices, from 0(free) to 200 USD. (We assume the currency is USD).\n",
        "- seems to have a lot of new courses since there are many courses with 0 subscribers. However, Udemy also has courses with more than 250K subscribers.\n",
        "- seems to also have a lot of courses with 0 reviews. Nevertheless, we also have a lot of courses with more than 25K reviews.\n",
        "- provides a lot of courses with many lectures, anywhere from 1–800 in total.\n",
        "- provides courses with a variable duration of 2–80 hours in total.\n",
        "- seems to have an increase in courses with a peak in 2016 and a sudden decrease in 2017.\n",
        "\n",
        "\n"
      ],
      "metadata": {
        "id": "wAYFZT5Xv1Rf"
      }
    },
    {
      "cell_type": "markdown",
      "source": [
        "**Checking for Outliers**"
      ],
      "metadata": {
        "id": "z4GDT0KRq1nD"
      }
    },
    {
      "cell_type": "code",
      "source": [
        "plt.figure(figsize=(12,6))\n",
        "features = numericals\n",
        "for i in range(0, len(features)):\n",
        "    plt.subplot(1, len(features), i+1)\n",
        "    sns.boxplot(y=df_update[features[i]], color='red')\n",
        "    plt.tight_layout()"
      ],
      "metadata": {
        "colab": {
          "base_uri": "https://localhost:8080/",
          "height": 441
        },
        "id": "krKZNKfCs3L_",
        "outputId": "98d34228-27a8-44fb-f774-6209ce9c3b62"
      },
      "execution_count": null,
      "outputs": [
        {
          "output_type": "display_data",
          "data": {
            "text/plain": [
              "<Figure size 864x432 with 6 Axes>"
            ],
            "image/png": "[encoded data removed]"
          },
          "metadata": {
            "needs_background": "light"
          }
        }
      ]
    },
    {
      "cell_type": "markdown",
      "source": [
        "We can see many outliers in our dataset from the boxplot above. However, we decided to leave it behind since they're all real numbers that make sense for our numerical data."
      ],
      "metadata": {
        "id": "b6664qJpefCB"
      }
    },
    {
      "cell_type": "markdown",
      "source": [
        "**Multivariate Analysis**"
      ],
      "metadata": {
        "id": "6i6x2nJTjtb3"
      }
    },
    {
      "cell_type": "code",
      "source": [
        "plt.figure(figsize=(12,6))\n",
        "correlation = df_update.corr()\n",
        "sns.heatmap(correlation, annot=True, fmt='.2f');"
      ],
      "metadata": {
        "colab": {
          "base_uri": "https://localhost:8080/",
          "height": 379
        },
        "id": "YngocsiweXiI",
        "outputId": "299dd40f-293e-46f8-aab8-91606089fd4e"
      },
      "execution_count": null,
      "outputs": [
        {
          "output_type": "display_data",
          "data": {
            "text/plain": [
              "<Figure size 864x432 with 2 Axes>"
            ],
            "image/png": "[encoded data removed]"
          },
          "metadata": {
            "needs_background": "light"
          }
        }
      ]
    },
    {
      "cell_type": "markdown",
      "source": [
        "'num_lectures' and 'content_duration' are highly correlated to each other. It indicates that the more number of lectures are, the more total duration of the courses."
      ],
      "metadata": {
        "id": "JzAqiF_myA0d"
      }
    },
    {
      "cell_type": "markdown",
      "source": [
        "##**Part 5: Deep Dive Explorations**"
      ],
      "metadata": {
        "id": "WCq5H0Tk7MKp"
      }
    },
    {
      "cell_type": "markdown",
      "source": [
        "**1. What are The Top 10 Courses with The Most Subscribers?**"
      ],
      "metadata": {
        "id": "4x6c2r9z4X-u"
      }
    },
    {
      "cell_type": "code",
      "source": [
        "# Top 10 Courses with the most subscribers\n",
        "top10_course = (df_update\n",
        "            .groupby('course_title') \n",
        "            .agg(num_subs=('num_subscribers', 'sum'))\n",
        "            .reset_index()\n",
        "            .sort_values('num_subs',ascending=False)\n",
        "            .head(10)\n",
        "            )\n",
        "top10_course"
      ],
      "metadata": {
        "id": "JfjsbF5o7Lq_",
        "colab": {
          "base_uri": "https://localhost:8080/",
          "height": 363
        },
        "outputId": "8b93d5a9-1c2d-4f46-bfec-3f068a96e64a"
      },
      "execution_count": null,
      "outputs": [
        {
          "output_type": "execute_result",
          "data": {
            "text/plain": [
              "                                           course_title  num_subs\n",
              "2108               Learn HTML5 Programming From Scratch    268923\n",
              "757                      Coding for Entrepreneurs Basic    161029\n",
              "3296                         The Web Developer Bootcamp    121584\n",
              "592   Build Your First Website in 1 Week with HTML5 ...    120291\n",
              "3227              The Complete Web Developer Course 2.0    114512\n",
              "1337              Free Beginner Electric Guitar Lessons    101154\n",
              "3463  Web Design for Web Developers: Build Beautiful...     98867\n",
              "2143             Learn Javascript & JQuery From Scratch     84897\n",
              "2800  Practical PHP: Master the Basics and Code Dyna...     83737\n",
              "1965          JavaScript: Understanding the Weird Parts     79612"
            ],
            "text/html": [
              "\n",
              "  <div id=\"df-3ecbde2d-f2c2-4870-af44-c9da5e5520ee\">\n",
              "    <div class=\"colab-df-container\">\n",
              "      <div>\n",
              "<style scoped>\n",
              "    .dataframe tbody tr th:only-of-type {\n",
              "        vertical-align: middle;\n",
              "    }\n",
              "\n",
              "    .dataframe tbody tr th {\n",
              "        vertical-align: top;\n",
              "    }\n",
              "\n",
              "    .dataframe thead th {\n",
              "        text-align: right;\n",
              "    }\n",
              "</style>\n",
              "<table border=\"1\" class=\"dataframe\">\n",
              "  <thead>\n",
              "    <tr style=\"text-align: right;\">\n",
              "      <th></th>\n",
              "      <th>course_title</th>\n",
              "      <th>num_subs</th>\n",
              "    </tr>\n",
              "  </thead>\n",
              "  <tbody>\n",
              "    <tr>\n",
              "      <th>2108</th>\n",
              "      <td>Learn HTML5 Programming From Scratch</td>\n",
              "      <td>268923</td>\n",
              "    </tr>\n",
              "    <tr>\n",
              "      <th>757</th>\n",
              "      <td>Coding for Entrepreneurs Basic</td>\n",
              "      <td>161029</td>\n",
              "    </tr>\n",
              "    <tr>\n",
              "      <th>3296</th>\n",
              "      <td>The Web Developer Bootcamp</td>\n",
              "      <td>121584</td>\n",
              "    </tr>\n",
              "    <tr>\n",
              "      <th>592</th>\n",
              "      <td>Build Your First Website in 1 Week with HTML5 ...</td>\n",
              "      <td>120291</td>\n",
              "    </tr>\n",
              "    <tr>\n",
              "      <th>3227</th>\n",
              "      <td>The Complete Web Developer Course 2.0</td>\n",
              "      <td>114512</td>\n",
              "    </tr>\n",
              "    <tr>\n",
              "      <th>1337</th>\n",
              "      <td>Free Beginner Electric Guitar Lessons</td>\n",
              "      <td>101154</td>\n",
              "    </tr>\n",
              "    <tr>\n",
              "      <th>3463</th>\n",
              "      <td>Web Design for Web Developers: Build Beautiful...</td>\n",
              "      <td>98867</td>\n",
              "    </tr>\n",
              "    <tr>\n",
              "      <th>2143</th>\n",
              "      <td>Learn Javascript &amp; JQuery From Scratch</td>\n",
              "      <td>84897</td>\n",
              "    </tr>\n",
              "    <tr>\n",
              "      <th>2800</th>\n",
              "      <td>Practical PHP: Master the Basics and Code Dyna...</td>\n",
              "      <td>83737</td>\n",
              "    </tr>\n",
              "    <tr>\n",
              "      <th>1965</th>\n",
              "      <td>JavaScript: Understanding the Weird Parts</td>\n",
              "      <td>79612</td>\n",
              "    </tr>\n",
              "  </tbody>\n",
              "</table>\n",
              "</div>\n",
              "      <button class=\"colab-df-convert\" onclick=\"convertToInteractive('df-3ecbde2d-f2c2-4870-af44-c9da5e5520ee')\"\n",
              "              title=\"Convert this dataframe to an interactive table.\"\n",
              "              style=\"display:none;\">\n",
              "        \n",
              "  <svg xmlns=\"http://www.w3.org/2000/svg\" height=\"24px\"viewBox=\"0 0 24 24\"\n",
              "       width=\"24px\">\n",
              "    <path d=\"M0 0h24v24H0V0z\" fill=\"none\"/>\n",
              "    <path d=\"M18.56 5.44l.94 2.06.94-2.06 2.06-.94-2.06-.94-.94-2.06-.94 2.06-2.06.94zm-11 1L8.5 8.5l.94-2.06 2.06-.94-2.06-.94L8.5 2.5l-.94 2.06-2.06.94zm10 10l.94 2.06.94-2.06 2.06-.94-2.06-.94-.94-2.06-.94 2.06-2.06.94z\"/><path d=\"M17.41 7.96l-1.37-1.37c-.4-.4-.92-.59-1.43-.59-.52 0-1.04.2-1.43.59L10.3 9.45l-7.72 7.72c-.78.78-.78 2.05 0 2.83L4 21.41c.39.39.9.59 1.41.59.51 0 1.02-.2 1.41-.59l7.78-7.78 2.81-2.81c.8-.78.8-2.07 0-2.86zM5.41 20L4 18.59l7.72-7.72 1.47 1.35L5.41 20z\"/>\n",
              "  </svg>\n",
              "      </button>\n",
              "      \n",
              "  <style>\n",
              "    .colab-df-container {\n",
              "      display:flex;\n",
              "      flex-wrap:wrap;\n",
              "      gap: 12px;\n",
              "    }\n",
              "\n",
              "    .colab-df-convert {\n",
              "      background-color: #E8F0FE;\n",
              "      border: none;\n",
              "      border-radius: 50%;\n",
              "      cursor: pointer;\n",
              "      display: none;\n",
              "      fill: #1967D2;\n",
              "      height: 32px;\n",
              "      padding: 0 0 0 0;\n",
              "      width: 32px;\n",
              "    }\n",
              "\n",
              "    .colab-df-convert:hover {\n",
              "      background-color: #E2EBFA;\n",
              "      box-shadow: 0px 1px 2px rgba(60, 64, 67, 0.3), 0px 1px 3px 1px rgba(60, 64, 67, 0.15);\n",
              "      fill: #174EA6;\n",
              "    }\n",
              "\n",
              "    [theme=dark] .colab-df-convert {\n",
              "      background-color: #3B4455;\n",
              "      fill: #D2E3FC;\n",
              "    }\n",
              "\n",
              "    [theme=dark] .colab-df-convert:hover {\n",
              "      background-color: #434B5C;\n",
              "      box-shadow: 0px 1px 3px 1px rgba(0, 0, 0, 0.15);\n",
              "      filter: drop-shadow(0px 1px 2px rgba(0, 0, 0, 0.3));\n",
              "      fill: #FFFFFF;\n",
              "    }\n",
              "  </style>\n",
              "\n",
              "      <script>\n",
              "        const buttonEl =\n",
              "          document.querySelector('#df-3ecbde2d-f2c2-4870-af44-c9da5e5520ee button.colab-df-convert');\n",
              "        buttonEl.style.display =\n",
              "          google.colab.kernel.accessAllowed ? 'block' : 'none';\n",
              "\n",
              "        async function convertToInteractive(key) {\n",
              "          const element = document.querySelector('#df-3ecbde2d-f2c2-4870-af44-c9da5e5520ee');\n",
              "          const dataTable =\n",
              "            await google.colab.kernel.invokeFunction('convertToInteractive',\n",
              "                                                     [key], {});\n",
              "          if (!dataTable) return;\n",
              "\n",
              "          const docLinkHtml = 'Like what you see? Visit the ' +\n",
              "            '<a target=\"_blank\" href=https://colab.research.google.com/notebooks/data_table.ipynb>data table notebook</a>'\n",
              "            + ' to learn more about interactive tables.';\n",
              "          element.innerHTML = '';\n",
              "          dataTable['output_type'] = 'display_data';\n",
              "          await google.colab.output.renderOutput(dataTable, element);\n",
              "          const docLink = document.createElement('div');\n",
              "          docLink.innerHTML = docLinkHtml;\n",
              "          element.appendChild(docLink);\n",
              "        }\n",
              "      </script>\n",
              "    </div>\n",
              "  </div>\n",
              "  "
            ]
          },
          "metadata": {},
          "execution_count": 26
        }
      ]
    },
    {
      "cell_type": "code",
      "source": [
        "plt.figure(figsize=(12,6))\n",
        "sns.barplot(data=top10_course, x='num_subs', y='course_title')\n",
        "plt.title('Udemy Top 10 Courses with The Most Subscribers', fontsize=18)\n",
        "plt.xlabel('Total Subscribers', fontsize=12)\n",
        "plt.ylabel('Course Title', fontsize=12);\n"
      ],
      "metadata": {
        "colab": {
          "base_uri": "https://localhost:8080/",
          "height": 411
        },
        "id": "5cOeAnnzz74B",
        "outputId": "fe39d4e7-e6a6-4722-cfe9-a4e7c998ede1"
      },
      "execution_count": null,
      "outputs": [
        {
          "output_type": "display_data",
          "data": {
            "text/plain": [
              "<Figure size 864x432 with 1 Axes>"
            ],
            "image/png": "[encoded data removed]"
          },
          "metadata": {
            "needs_background": "light"
          }
        }
      ]
    },
    {
      "cell_type": "markdown",
      "source": [
        "We already knew that the Web Development topic on Udemy has the most total courses. The chart now shows that 9 of the top ten most-subscribed courses are in the Web Development category. The other course is from the subject of Musical Instruments."
      ],
      "metadata": {
        "id": "p8CJ_1lm0PZS"
      }
    },
    {
      "cell_type": "markdown",
      "source": [
        "**2. What are The Courses with 0 Subscribers and Reviews?**"
      ],
      "metadata": {
        "id": "h3d68PCI4gnv"
      }
    },
    {
      "cell_type": "code",
      "source": [
        "nullcourses= df_update[(df_update['num_subscribers']==0.00)&(df_update['num_reviews']==0.00)]\n",
        "nullcourses"
      ],
      "metadata": {
        "colab": {
          "base_uri": "https://localhost:8080/",
          "height": 956
        },
        "id": "L1Fgqcx32zFv",
        "outputId": "9cd8e749-efaa-4288-8906-c7ea4323b233"
      },
      "execution_count": null,
      "outputs": [
        {
          "output_type": "execute_result",
          "data": {
            "text/plain": [
              "     course_id                                       course_title  \\\n",
              "453     837322  Essentials of money value: Get a financial Life !   \n",
              "454    1157298  Introduction to Forex Trading Business For Beg...   \n",
              "455    1282064  Cryptocurrency (BTC & ETH) Investment & Tradin...   \n",
              "456    1247992  Introduction to Project Management for Finance...   \n",
              "457    1251582              Best Practices in Corporate Budgeting   \n",
              "...        ...                                                ...   \n",
              "2402   1214670                  Tune that Sour Note on Your Piano   \n",
              "2403   1272282      Learn Vikings Soundtracks on the Piano by Ear   \n",
              "2404   1224186  Learn to Play Piano Like a Pro - Easy Piano Co...   \n",
              "2405   1265814  ABRSM Grade III Piano Class - Handel Sonatina ...   \n",
              "2418   1216340                  Learn to Play Sweet Child of Mine   \n",
              "\n",
              "                                                    url  is_paid  price  \\\n",
              "453    https://www.udemy.com/essentials-of-money-value/     True     20   \n",
              "454   https://www.udemy.com/introduction-to-forex-tr...     True     20   \n",
              "455   https://www.udemy.com/cryptocurrency-btc-eth-i...     True     20   \n",
              "456   https://www.udemy.com/introduction-to-project-...     True     50   \n",
              "457   https://www.udemy.com/best-practices-corporate...     True     50   \n",
              "...                                                 ...      ...    ...   \n",
              "2402  https://www.udemy.com/how-to-tune-your-own-piano/     True     20   \n",
              "2403  https://www.udemy.com/learn-vikings-soundtrack...     True     20   \n",
              "2404  https://www.udemy.com/learn-to-play-piano-like...     True     35   \n",
              "2405  https://www.udemy.com/abrsm-grade-iii-piano-cl...     True     20   \n",
              "2418  https://www.udemy.com/learn-to-play-sweet-chil...     True     20   \n",
              "\n",
              "      num_subscribers  num_reviews  num_lectures               level  \\\n",
              "453                 0            0            20          All Levels   \n",
              "454                 0            0            27      Beginner Level   \n",
              "455                 0            0             7      Beginner Level   \n",
              "456                 0            0             9      Beginner Level   \n",
              "457                 0            0             9  Intermediate Level   \n",
              "...               ...          ...           ...                 ...   \n",
              "2402                0            0             6          All Levels   \n",
              "2403                0            0             8          All Levels   \n",
              "2404                0            0            13      Beginner Level   \n",
              "2405                0            0             5      Beginner Level   \n",
              "2418                0            0            23  Intermediate Level   \n",
              "\n",
              "      content_duration       published_timestamp              subject  year  \n",
              "453           0.616667 2016-05-16 18:28:30+00:00     Business Finance  2016  \n",
              "454           1.500000 2017-04-23 16:19:01+00:00     Business Finance  2017  \n",
              "455           2.500000 2017-07-06 21:46:30+00:00     Business Finance  2017  \n",
              "456           2.000000 2017-07-03 21:40:32+00:00     Business Finance  2017  \n",
              "457           2.000000 2017-06-29 22:01:56+00:00     Business Finance  2017  \n",
              "...                ...                       ...                  ...   ...  \n",
              "2402          0.550000 2017-06-20 21:46:40+00:00  Musical Instruments  2017  \n",
              "2403          0.583333 2017-06-29 15:10:58+00:00  Musical Instruments  2017  \n",
              "2404          0.516667 2017-05-30 00:19:02+00:00  Musical Instruments  2017  \n",
              "2405          0.516667 2017-07-06 16:12:34+00:00  Musical Instruments  2017  \n",
              "2418          1.500000 2017-06-30 17:33:29+00:00  Musical Instruments  2017  \n",
              "\n",
              "[65 rows x 13 columns]"
            ],
            "text/html": [
              "\n",
              "  <div id=\"df-4a9f6801-dc87-431a-859f-57d3d22b1795\">\n",
              "    <div class=\"colab-df-container\">\n",
              "      <div>\n",
              "<style scoped>\n",
              "    .dataframe tbody tr th:only-of-type {\n",
              "        vertical-align: middle;\n",
              "    }\n",
              "\n",
              "    .dataframe tbody tr th {\n",
              "        vertical-align: top;\n",
              "    }\n",
              "\n",
              "    .dataframe thead th {\n",
              "        text-align: right;\n",
              "    }\n",
              "</style>\n",
              "<table border=\"1\" class=\"dataframe\">\n",
              "  <thead>\n",
              "    <tr style=\"text-align: right;\">\n",
              "      <th></th>\n",
              "      <th>course_id</th>\n",
              "      <th>course_title</th>\n",
              "      <th>url</th>\n",
              "      <th>is_paid</th>\n",
              "      <th>price</th>\n",
              "      <th>num_subscribers</th>\n",
              "      <th>num_reviews</th>\n",
              "      <th>num_lectures</th>\n",
              "      <th>level</th>\n",
              "      <th>content_duration</th>\n",
              "      <th>published_timestamp</th>\n",
              "      <th>subject</th>\n",
              "      <th>year</th>\n",
              "    </tr>\n",
              "  </thead>\n",
              "  <tbody>\n",
              "    <tr>\n",
              "      <th>453</th>\n",
              "      <td>837322</td>\n",
              "      <td>Essentials of money value: Get a financial Life !</td>\n",
              "      <td>https://www.udemy.com/essentials-of-money-value/</td>\n",
              "      <td>True</td>\n",
              "      <td>20</td>\n",
              "      <td>0</td>\n",
              "      <td>0</td>\n",
              "      <td>20</td>\n",
              "      <td>All Levels</td>\n",
              "      <td>0.616667</td>\n",
              "      <td>2016-05-16 18:28:30+00:00</td>\n",
              "      <td>Business Finance</td>\n",
              "      <td>2016</td>\n",
              "    </tr>\n",
              "    <tr>\n",
              "      <th>454</th>\n",
              "      <td>1157298</td>\n",
              "      <td>Introduction to Forex Trading Business For Beg...</td>\n",
              "      <td>https://www.udemy.com/introduction-to-forex-tr...</td>\n",
              "      <td>True</td>\n",
              "      <td>20</td>\n",
              "      <td>0</td>\n",
              "      <td>0</td>\n",
              "      <td>27</td>\n",
              "      <td>Beginner Level</td>\n",
              "      <td>1.500000</td>\n",
              "      <td>2017-04-23 16:19:01+00:00</td>\n",
              "      <td>Business Finance</td>\n",
              "      <td>2017</td>\n",
              "    </tr>\n",
              "    <tr>\n",
              "      <th>455</th>\n",
              "      <td>1282064</td>\n",
              "      <td>Cryptocurrency (BTC &amp; ETH) Investment &amp; Tradin...</td>\n",
              "      <td>https://www.udemy.com/cryptocurrency-btc-eth-i...</td>\n",
              "      <td>True</td>\n",
              "      <td>20</td>\n",
              "      <td>0</td>\n",
              "      <td>0</td>\n",
              "      <td>7</td>\n",
              "      <td>Beginner Level</td>\n",
              "      <td>2.500000</td>\n",
              "      <td>2017-07-06 21:46:30+00:00</td>\n",
              "      <td>Business Finance</td>\n",
              "      <td>2017</td>\n",
              "    </tr>\n",
              "    <tr>\n",
              "      <th>456</th>\n",
              "      <td>1247992</td>\n",
              "      <td>Introduction to Project Management for Finance...</td>\n",
              "      <td>https://www.udemy.com/introduction-to-project-...</td>\n",
              "      <td>True</td>\n",
              "      <td>50</td>\n",
              "      <td>0</td>\n",
              "      <td>0</td>\n",
              "      <td>9</td>\n",
              "      <td>Beginner Level</td>\n",
              "      <td>2.000000</td>\n",
              "      <td>2017-07-03 21:40:32+00:00</td>\n",
              "      <td>Business Finance</td>\n",
              "      <td>2017</td>\n",
              "    </tr>\n",
              "    <tr>\n",
              "      <th>457</th>\n",
              "      <td>1251582</td>\n",
              "      <td>Best Practices in Corporate Budgeting</td>\n",
              "      <td>https://www.udemy.com/best-practices-corporate...</td>\n",
              "      <td>True</td>\n",
              "      <td>50</td>\n",
              "      <td>0</td>\n",
              "      <td>0</td>\n",
              "      <td>9</td>\n",
              "      <td>Intermediate Level</td>\n",
              "      <td>2.000000</td>\n",
              "      <td>2017-06-29 22:01:56+00:00</td>\n",
              "      <td>Business Finance</td>\n",
              "      <td>2017</td>\n",
              "    </tr>\n",
              "    <tr>\n",
              "      <th>...</th>\n",
              "      <td>...</td>\n",
              "      <td>...</td>\n",
              "      <td>...</td>\n",
              "      <td>...</td>\n",
              "      <td>...</td>\n",
              "      <td>...</td>\n",
              "      <td>...</td>\n",
              "      <td>...</td>\n",
              "      <td>...</td>\n",
              "      <td>...</td>\n",
              "      <td>...</td>\n",
              "      <td>...</td>\n",
              "      <td>...</td>\n",
              "    </tr>\n",
              "    <tr>\n",
              "      <th>2402</th>\n",
              "      <td>1214670</td>\n",
              "      <td>Tune that Sour Note on Your Piano</td>\n",
              "      <td>https://www.udemy.com/how-to-tune-your-own-piano/</td>\n",
              "      <td>True</td>\n",
              "      <td>20</td>\n",
              "      <td>0</td>\n",
              "      <td>0</td>\n",
              "      <td>6</td>\n",
              "      <td>All Levels</td>\n",
              "      <td>0.550000</td>\n",
              "      <td>2017-06-20 21:46:40+00:00</td>\n",
              "      <td>Musical Instruments</td>\n",
              "      <td>2017</td>\n",
              "    </tr>\n",
              "    <tr>\n",
              "      <th>2403</th>\n",
              "      <td>1272282</td>\n",
              "      <td>Learn Vikings Soundtracks on the Piano by Ear</td>\n",
              "      <td>https://www.udemy.com/learn-vikings-soundtrack...</td>\n",
              "      <td>True</td>\n",
              "      <td>20</td>\n",
              "      <td>0</td>\n",
              "      <td>0</td>\n",
              "      <td>8</td>\n",
              "      <td>All Levels</td>\n",
              "      <td>0.583333</td>\n",
              "      <td>2017-06-29 15:10:58+00:00</td>\n",
              "      <td>Musical Instruments</td>\n",
              "      <td>2017</td>\n",
              "    </tr>\n",
              "    <tr>\n",
              "      <th>2404</th>\n",
              "      <td>1224186</td>\n",
              "      <td>Learn to Play Piano Like a Pro - Easy Piano Co...</td>\n",
              "      <td>https://www.udemy.com/learn-to-play-piano-like...</td>\n",
              "      <td>True</td>\n",
              "      <td>35</td>\n",
              "      <td>0</td>\n",
              "      <td>0</td>\n",
              "      <td>13</td>\n",
              "      <td>Beginner Level</td>\n",
              "      <td>0.516667</td>\n",
              "      <td>2017-05-30 00:19:02+00:00</td>\n",
              "      <td>Musical Instruments</td>\n",
              "      <td>2017</td>\n",
              "    </tr>\n",
              "    <tr>\n",
              "      <th>2405</th>\n",
              "      <td>1265814</td>\n",
              "      <td>ABRSM Grade III Piano Class - Handel Sonatina ...</td>\n",
              "      <td>https://www.udemy.com/abrsm-grade-iii-piano-cl...</td>\n",
              "      <td>True</td>\n",
              "      <td>20</td>\n",
              "      <td>0</td>\n",
              "      <td>0</td>\n",
              "      <td>5</td>\n",
              "      <td>Beginner Level</td>\n",
              "      <td>0.516667</td>\n",
              "      <td>2017-07-06 16:12:34+00:00</td>\n",
              "      <td>Musical Instruments</td>\n",
              "      <td>2017</td>\n",
              "    </tr>\n",
              "    <tr>\n",
              "      <th>2418</th>\n",
              "      <td>1216340</td>\n",
              "      <td>Learn to Play Sweet Child of Mine</td>\n",
              "      <td>https://www.udemy.com/learn-to-play-sweet-chil...</td>\n",
              "      <td>True</td>\n",
              "      <td>20</td>\n",
              "      <td>0</td>\n",
              "      <td>0</td>\n",
              "      <td>23</td>\n",
              "      <td>Intermediate Level</td>\n",
              "      <td>1.500000</td>\n",
              "      <td>2017-06-30 17:33:29+00:00</td>\n",
              "      <td>Musical Instruments</td>\n",
              "      <td>2017</td>\n",
              "    </tr>\n",
              "  </tbody>\n",
              "</table>\n",
              "<p>65 rows × 13 columns</p>\n",
              "</div>\n",
              "      <button class=\"colab-df-convert\" onclick=\"convertToInteractive('df-4a9f6801-dc87-431a-859f-57d3d22b1795')\"\n",
              "              title=\"Convert this dataframe to an interactive table.\"\n",
              "              style=\"display:none;\">\n",
              "        \n",
              "  <svg xmlns=\"http://www.w3.org/2000/svg\" height=\"24px\"viewBox=\"0 0 24 24\"\n",
              "       width=\"24px\">\n",
              "    <path d=\"M0 0h24v24H0V0z\" fill=\"none\"/>\n",
              "    <path d=\"M18.56 5.44l.94 2.06.94-2.06 2.06-.94-2.06-.94-.94-2.06-.94 2.06-2.06.94zm-11 1L8.5 8.5l.94-2.06 2.06-.94-2.06-.94L8.5 2.5l-.94 2.06-2.06.94zm10 10l.94 2.06.94-2.06 2.06-.94-2.06-.94-.94-2.06-.94 2.06-2.06.94z\"/><path d=\"M17.41 7.96l-1.37-1.37c-.4-.4-.92-.59-1.43-.59-.52 0-1.04.2-1.43.59L10.3 9.45l-7.72 7.72c-.78.78-.78 2.05 0 2.83L4 21.41c.39.39.9.59 1.41.59.51 0 1.02-.2 1.41-.59l7.78-7.78 2.81-2.81c.8-.78.8-2.07 0-2.86zM5.41 20L4 18.59l7.72-7.72 1.47 1.35L5.41 20z\"/>\n",
              "  </svg>\n",
              "      </button>\n",
              "      \n",
              "  <style>\n",
              "    .colab-df-container {\n",
              "      display:flex;\n",
              "      flex-wrap:wrap;\n",
              "      gap: 12px;\n",
              "    }\n",
              "\n",
              "    .colab-df-convert {\n",
              "      background-color: #E8F0FE;\n",
              "      border: none;\n",
              "      border-radius: 50%;\n",
              "      cursor: pointer;\n",
              "      display: none;\n",
              "      fill: #1967D2;\n",
              "      height: 32px;\n",
              "      padding: 0 0 0 0;\n",
              "      width: 32px;\n",
              "    }\n",
              "\n",
              "    .colab-df-convert:hover {\n",
              "      background-color: #E2EBFA;\n",
              "      box-shadow: 0px 1px 2px rgba(60, 64, 67, 0.3), 0px 1px 3px 1px rgba(60, 64, 67, 0.15);\n",
              "      fill: #174EA6;\n",
              "    }\n",
              "\n",
              "    [theme=dark] .colab-df-convert {\n",
              "      background-color: #3B4455;\n",
              "      fill: #D2E3FC;\n",
              "    }\n",
              "\n",
              "    [theme=dark] .colab-df-convert:hover {\n",
              "      background-color: #434B5C;\n",
              "      box-shadow: 0px 1px 3px 1px rgba(0, 0, 0, 0.15);\n",
              "      filter: drop-shadow(0px 1px 2px rgba(0, 0, 0, 0.3));\n",
              "      fill: #FFFFFF;\n",
              "    }\n",
              "  </style>\n",
              "\n",
              "      <script>\n",
              "        const buttonEl =\n",
              "          document.querySelector('#df-4a9f6801-dc87-431a-859f-57d3d22b1795 button.colab-df-convert');\n",
              "        buttonEl.style.display =\n",
              "          google.colab.kernel.accessAllowed ? 'block' : 'none';\n",
              "\n",
              "        async function convertToInteractive(key) {\n",
              "          const element = document.querySelector('#df-4a9f6801-dc87-431a-859f-57d3d22b1795');\n",
              "          const dataTable =\n",
              "            await google.colab.kernel.invokeFunction('convertToInteractive',\n",
              "                                                     [key], {});\n",
              "          if (!dataTable) return;\n",
              "\n",
              "          const docLinkHtml = 'Like what you see? Visit the ' +\n",
              "            '<a target=\"_blank\" href=https://colab.research.google.com/notebooks/data_table.ipynb>data table notebook</a>'\n",
              "            + ' to learn more about interactive tables.';\n",
              "          element.innerHTML = '';\n",
              "          dataTable['output_type'] = 'display_data';\n",
              "          await google.colab.output.renderOutput(dataTable, element);\n",
              "          const docLink = document.createElement('div');\n",
              "          docLink.innerHTML = docLinkHtml;\n",
              "          element.appendChild(docLink);\n",
              "        }\n",
              "      </script>\n",
              "    </div>\n",
              "  </div>\n",
              "  "
            ]
          },
          "metadata": {},
          "execution_count": 26
        }
      ]
    },
    {
      "cell_type": "markdown",
      "source": [
        "We can see by filtering rows that there are courses with no subscribers or reviews. The majority of them are in the Business Finance and Musical Instruments categories."
      ],
      "metadata": {
        "id": "IkMgePdW5KpF"
      }
    },
    {
      "cell_type": "markdown",
      "source": [
        "**3. What are The Top 10 Courses with The Most Reviews?**"
      ],
      "metadata": {
        "id": "PvjWBnfN8ZFK"
      }
    },
    {
      "cell_type": "code",
      "source": [
        "# Top 10 Courses with the most reviews\n",
        "top10_reviews = (df_update\n",
        "            .groupby('course_title') \n",
        "            .agg(num_rev=('num_reviews', 'sum'))\n",
        "            .reset_index()\n",
        "            .sort_values('num_rev',ascending=False)\n",
        "            .head(10)\n",
        "            )\n",
        "top10_reviews"
      ],
      "metadata": {
        "colab": {
          "base_uri": "https://localhost:8080/",
          "height": 363
        },
        "id": "i-jmlDNo7m2K",
        "outputId": "94af7f6e-4a32-4a7c-d283-a132cbb40c48"
      },
      "execution_count": null,
      "outputs": [
        {
          "output_type": "execute_result",
          "data": {
            "text/plain": [
              "                                           course_title  num_rev\n",
              "3296                         The Web Developer Bootcamp    27445\n",
              "3227              The Complete Web Developer Course 2.0    22412\n",
              "268   Angular 4 (formerly Angular 2) - The Complete ...    19649\n",
              "1965          JavaScript: Understanding the Weird Parts    16976\n",
              "2535                            Modern React with Redux    15117\n",
              "2254                     Learn and Understand AngularJS    11580\n",
              "2255                        Learn and Understand NodeJS    11123\n",
              "2108               Learn HTML5 Programming From Scratch     8629\n",
              "265   Angular 2 with TypeScript for Beginners: The P...     8341\n",
              "2744  Pianoforall - Incredible New Way To Learn Pian...     7676"
            ],
            "text/html": [
              "\n",
              "  <div id=\"df-6598f2d3-37c9-4e19-a8c8-1dd1c81d2281\">\n",
              "    <div class=\"colab-df-container\">\n",
              "      <div>\n",
              "<style scoped>\n",
              "    .dataframe tbody tr th:only-of-type {\n",
              "        vertical-align: middle;\n",
              "    }\n",
              "\n",
              "    .dataframe tbody tr th {\n",
              "        vertical-align: top;\n",
              "    }\n",
              "\n",
              "    .dataframe thead th {\n",
              "        text-align: right;\n",
              "    }\n",
              "</style>\n",
              "<table border=\"1\" class=\"dataframe\">\n",
              "  <thead>\n",
              "    <tr style=\"text-align: right;\">\n",
              "      <th></th>\n",
              "      <th>course_title</th>\n",
              "      <th>num_rev</th>\n",
              "    </tr>\n",
              "  </thead>\n",
              "  <tbody>\n",
              "    <tr>\n",
              "      <th>3296</th>\n",
              "      <td>The Web Developer Bootcamp</td>\n",
              "      <td>27445</td>\n",
              "    </tr>\n",
              "    <tr>\n",
              "      <th>3227</th>\n",
              "      <td>The Complete Web Developer Course 2.0</td>\n",
              "      <td>22412</td>\n",
              "    </tr>\n",
              "    <tr>\n",
              "      <th>268</th>\n",
              "      <td>Angular 4 (formerly Angular 2) - The Complete ...</td>\n",
              "      <td>19649</td>\n",
              "    </tr>\n",
              "    <tr>\n",
              "      <th>1965</th>\n",
              "      <td>JavaScript: Understanding the Weird Parts</td>\n",
              "      <td>16976</td>\n",
              "    </tr>\n",
              "    <tr>\n",
              "      <th>2535</th>\n",
              "      <td>Modern React with Redux</td>\n",
              "      <td>15117</td>\n",
              "    </tr>\n",
              "    <tr>\n",
              "      <th>2254</th>\n",
              "      <td>Learn and Understand AngularJS</td>\n",
              "      <td>11580</td>\n",
              "    </tr>\n",
              "    <tr>\n",
              "      <th>2255</th>\n",
              "      <td>Learn and Understand NodeJS</td>\n",
              "      <td>11123</td>\n",
              "    </tr>\n",
              "    <tr>\n",
              "      <th>2108</th>\n",
              "      <td>Learn HTML5 Programming From Scratch</td>\n",
              "      <td>8629</td>\n",
              "    </tr>\n",
              "    <tr>\n",
              "      <th>265</th>\n",
              "      <td>Angular 2 with TypeScript for Beginners: The P...</td>\n",
              "      <td>8341</td>\n",
              "    </tr>\n",
              "    <tr>\n",
              "      <th>2744</th>\n",
              "      <td>Pianoforall - Incredible New Way To Learn Pian...</td>\n",
              "      <td>7676</td>\n",
              "    </tr>\n",
              "  </tbody>\n",
              "</table>\n",
              "</div>\n",
              "      <button class=\"colab-df-convert\" onclick=\"convertToInteractive('df-6598f2d3-37c9-4e19-a8c8-1dd1c81d2281')\"\n",
              "              title=\"Convert this dataframe to an interactive table.\"\n",
              "              style=\"display:none;\">\n",
              "        \n",
              "  <svg xmlns=\"http://www.w3.org/2000/svg\" height=\"24px\"viewBox=\"0 0 24 24\"\n",
              "       width=\"24px\">\n",
              "    <path d=\"M0 0h24v24H0V0z\" fill=\"none\"/>\n",
              "    <path d=\"M18.56 5.44l.94 2.06.94-2.06 2.06-.94-2.06-.94-.94-2.06-.94 2.06-2.06.94zm-11 1L8.5 8.5l.94-2.06 2.06-.94-2.06-.94L8.5 2.5l-.94 2.06-2.06.94zm10 10l.94 2.06.94-2.06 2.06-.94-2.06-.94-.94-2.06-.94 2.06-2.06.94z\"/><path d=\"M17.41 7.96l-1.37-1.37c-.4-.4-.92-.59-1.43-.59-.52 0-1.04.2-1.43.59L10.3 9.45l-7.72 7.72c-.78.78-.78 2.05 0 2.83L4 21.41c.39.39.9.59 1.41.59.51 0 1.02-.2 1.41-.59l7.78-7.78 2.81-2.81c.8-.78.8-2.07 0-2.86zM5.41 20L4 18.59l7.72-7.72 1.47 1.35L5.41 20z\"/>\n",
              "  </svg>\n",
              "      </button>\n",
              "      \n",
              "  <style>\n",
              "    .colab-df-container {\n",
              "      display:flex;\n",
              "      flex-wrap:wrap;\n",
              "      gap: 12px;\n",
              "    }\n",
              "\n",
              "    .colab-df-convert {\n",
              "      background-color: #E8F0FE;\n",
              "      border: none;\n",
              "      border-radius: 50%;\n",
              "      cursor: pointer;\n",
              "      display: none;\n",
              "      fill: #1967D2;\n",
              "      height: 32px;\n",
              "      padding: 0 0 0 0;\n",
              "      width: 32px;\n",
              "    }\n",
              "\n",
              "    .colab-df-convert:hover {\n",
              "      background-color: #E2EBFA;\n",
              "      box-shadow: 0px 1px 2px rgba(60, 64, 67, 0.3), 0px 1px 3px 1px rgba(60, 64, 67, 0.15);\n",
              "      fill: #174EA6;\n",
              "    }\n",
              "\n",
              "    [theme=dark] .colab-df-convert {\n",
              "      background-color: #3B4455;\n",
              "      fill: #D2E3FC;\n",
              "    }\n",
              "\n",
              "    [theme=dark] .colab-df-convert:hover {\n",
              "      background-color: #434B5C;\n",
              "      box-shadow: 0px 1px 3px 1px rgba(0, 0, 0, 0.15);\n",
              "      filter: drop-shadow(0px 1px 2px rgba(0, 0, 0, 0.3));\n",
              "      fill: #FFFFFF;\n",
              "    }\n",
              "  </style>\n",
              "\n",
              "      <script>\n",
              "        const buttonEl =\n",
              "          document.querySelector('#df-6598f2d3-37c9-4e19-a8c8-1dd1c81d2281 button.colab-df-convert');\n",
              "        buttonEl.style.display =\n",
              "          google.colab.kernel.accessAllowed ? 'block' : 'none';\n",
              "\n",
              "        async function convertToInteractive(key) {\n",
              "          const element = document.querySelector('#df-6598f2d3-37c9-4e19-a8c8-1dd1c81d2281');\n",
              "          const dataTable =\n",
              "            await google.colab.kernel.invokeFunction('convertToInteractive',\n",
              "                                                     [key], {});\n",
              "          if (!dataTable) return;\n",
              "\n",
              "          const docLinkHtml = 'Like what you see? Visit the ' +\n",
              "            '<a target=\"_blank\" href=https://colab.research.google.com/notebooks/data_table.ipynb>data table notebook</a>'\n",
              "            + ' to learn more about interactive tables.';\n",
              "          element.innerHTML = '';\n",
              "          dataTable['output_type'] = 'display_data';\n",
              "          await google.colab.output.renderOutput(dataTable, element);\n",
              "          const docLink = document.createElement('div');\n",
              "          docLink.innerHTML = docLinkHtml;\n",
              "          element.appendChild(docLink);\n",
              "        }\n",
              "      </script>\n",
              "    </div>\n",
              "  </div>\n",
              "  "
            ]
          },
          "metadata": {},
          "execution_count": 27
        }
      ]
    },
    {
      "cell_type": "code",
      "source": [
        "plt.figure(figsize=(12,6))\n",
        "sns.barplot(data=top10_reviews, x='num_rev', y='course_title')\n",
        "plt.title('Udemy Top 10 Courses with The Most Reviews', fontsize=18)\n",
        "plt.xlabel('Total Reviews', fontsize=12)\n",
        "plt.ylabel('Course Title', fontsize=12);\n"
      ],
      "metadata": {
        "colab": {
          "base_uri": "https://localhost:8080/",
          "height": 411
        },
        "id": "GOkgZII47zm5",
        "outputId": "f77b9f5d-0293-4d45-c91a-5f4131b839a5"
      },
      "execution_count": null,
      "outputs": [
        {
          "output_type": "display_data",
          "data": {
            "text/plain": [
              "<Figure size 864x432 with 1 Axes>"
            ],
            "image/png": "[encoded data removed]"
          },
          "metadata": {
            "needs_background": "light"
          }
        }
      ]
    },
    {
      "cell_type": "markdown",
      "source": [
        "It turns out that 9 of the top 10 most reviewed courses are also in the Web Development category, with a Musical Instruments course ranking 10th. It proves how popular Web Development courses are in today's society."
      ],
      "metadata": {
        "id": "GTsJSdNE8l_k"
      }
    },
    {
      "cell_type": "markdown",
      "source": [
        "**4. Course Subject Throughout The Year**"
      ],
      "metadata": {
        "id": "KRFz_C6FCsLj"
      }
    },
    {
      "cell_type": "code",
      "source": [
        "plt.figure(figsize=(12,6))\n",
        "sns.countplot(data=df_update,\n",
        "            hue='subject',\n",
        "            x='year')\n",
        "plt.title('Course Subject Over The Year', fontsize=18)\n",
        "plt.xlabel('Year', fontsize=12)\n",
        "plt.ylabel('Total Course', fontsize=12)\n",
        "plt.legend(loc='upper left');"
      ],
      "metadata": {
        "colab": {
          "base_uri": "https://localhost:8080/",
          "height": 411
        },
        "id": "G2HxWB2rBuAo",
        "outputId": "50dd03dd-7fc9-473b-eb6e-cf7e1cf4771f"
      },
      "execution_count": null,
      "outputs": [
        {
          "output_type": "display_data",
          "data": {
            "text/plain": [
              "<Figure size 864x432 with 1 Axes>"
            ],
            "image/png": "[encoded data removed]"
          },
          "metadata": {
            "needs_background": "light"
          }
        }
      ]
    },
    {
      "cell_type": "markdown",
      "source": [
        "Starting with a course in the web development category, the course at **Udemy** has developed rapidly. Web Development and Business Finance remain the most popular categories until 2017. However, there is a significant drop in total courses from 2016 to 2017."
      ],
      "metadata": {
        "id": "0Wn-caG6DMUJ"
      }
    },
    {
      "cell_type": "markdown",
      "source": [
        "**5. Why is there a sudden decrease in course topics in 2017 ?**\n"
      ],
      "metadata": {
        "id": "xE0tXCqgKRu0"
      }
    },
    {
      "cell_type": "code",
      "source": [
        "df1 = df_update.groupby('year')[['num_subscribers','num_reviews','num_lectures']].sum().reset_index()\n",
        "df1.plot(x='year', y=['num_subscribers','num_reviews','num_lectures'],\n",
        "        kind=\"line\", figsize=(12, 6))\n",
        "plt.xlabel('Years', fontsize=12)\n",
        "plt.legend(loc='upper center');"
      ],
      "metadata": {
        "colab": {
          "base_uri": "https://localhost:8080/",
          "height": 402
        },
        "id": "t-9MHaKGLdnn",
        "outputId": "00bd001c-eb3e-4bdd-cffc-4abc25d5a74e"
      },
      "execution_count": null,
      "outputs": [
        {
          "output_type": "display_data",
          "data": {
            "text/plain": [
              "<Figure size 864x432 with 1 Axes>"
            ],
            "image/png": "[encoded data removed]"
          },
          "metadata": {
            "needs_background": "light"
          }
        }
      ]
    },
    {
      "cell_type": "markdown",
      "source": [
        "The number of subscribers in course topics tended to increase from 2011 to 2015, then decrease in 2016 and 2017.\n",
        "When combined with the previous chart on course subject analysis, we can see that the number of course subjects increased in 2016, but the number of subscribers actually reduced, which could explain why the amount of courses decreased in 2017."
      ],
      "metadata": {
        "id": "XswX_3xwKn80"
      }
    },
    {
      "cell_type": "markdown",
      "source": [
        "**6. Total Revenue Throughout The Year**"
      ],
      "metadata": {
        "id": "tY2eDr6ORLgF"
      }
    },
    {
      "cell_type": "code",
      "source": [
        "df_update['total_revenue']=df_update['price']*df_update['num_subscribers']\n",
        "df_update.head(3)"
      ],
      "metadata": {
        "colab": {
          "base_uri": "https://localhost:8080/",
          "height": 381
        },
        "id": "4IIp9lPR_doM",
        "outputId": "28aa4b08-fa46-4326-8125-2294356c19d1"
      },
      "execution_count": null,
      "outputs": [
        {
          "output_type": "execute_result",
          "data": {
            "text/plain": [
              "  course_id                                       course_title  \\\n",
              "0   1070968                 Ultimate Investment Banking Course   \n",
              "1   1113822  Complete GST Course & Certification - Grow You...   \n",
              "2   1006314  Financial Modeling for Business Analysts and C...   \n",
              "\n",
              "                                                 url  is_paid  price  \\\n",
              "0  https://www.udemy.com/ultimate-investment-bank...     True    200   \n",
              "1      https://www.udemy.com/goods-and-services-tax/     True     75   \n",
              "2  https://www.udemy.com/financial-modeling-for-b...     True     45   \n",
              "\n",
              "   num_subscribers  num_reviews  num_lectures               level  \\\n",
              "0             2147           23            51          All Levels   \n",
              "1             2792          923           274          All Levels   \n",
              "2             2174           74            51  Intermediate Level   \n",
              "\n",
              "   content_duration       published_timestamp           subject  year  \\\n",
              "0               1.5 2017-01-18 20:58:58+00:00  Business Finance  2017   \n",
              "1              39.0 2017-03-09 16:34:20+00:00  Business Finance  2017   \n",
              "2               2.5 2016-12-19 19:26:30+00:00  Business Finance  2016   \n",
              "\n",
              "   total_revenue  \n",
              "0         429400  \n",
              "1         209400  \n",
              "2          97830  "
            ],
            "text/html": [
              "\n",
              "  <div id=\"df-98da19cc-c970-41bf-8398-25fba5c415de\">\n",
              "    <div class=\"colab-df-container\">\n",
              "      <div>\n",
              "<style scoped>\n",
              "    .dataframe tbody tr th:only-of-type {\n",
              "        vertical-align: middle;\n",
              "    }\n",
              "\n",
              "    .dataframe tbody tr th {\n",
              "        vertical-align: top;\n",
              "    }\n",
              "\n",
              "    .dataframe thead th {\n",
              "        text-align: right;\n",
              "    }\n",
              "</style>\n",
              "<table border=\"1\" class=\"dataframe\">\n",
              "  <thead>\n",
              "    <tr style=\"text-align: right;\">\n",
              "      <th></th>\n",
              "      <th>course_id</th>\n",
              "      <th>course_title</th>\n",
              "      <th>url</th>\n",
              "      <th>is_paid</th>\n",
              "      <th>price</th>\n",
              "      <th>num_subscribers</th>\n",
              "      <th>num_reviews</th>\n",
              "      <th>num_lectures</th>\n",
              "      <th>level</th>\n",
              "      <th>content_duration</th>\n",
              "      <th>published_timestamp</th>\n",
              "      <th>subject</th>\n",
              "      <th>year</th>\n",
              "      <th>total_revenue</th>\n",
              "    </tr>\n",
              "  </thead>\n",
              "  <tbody>\n",
              "    <tr>\n",
              "      <th>0</th>\n",
              "      <td>1070968</td>\n",
              "      <td>Ultimate Investment Banking Course</td>\n",
              "      <td>https://www.udemy.com/ultimate-investment-bank...</td>\n",
              "      <td>True</td>\n",
              "      <td>200</td>\n",
              "      <td>2147</td>\n",
              "      <td>23</td>\n",
              "      <td>51</td>\n",
              "      <td>All Levels</td>\n",
              "      <td>1.5</td>\n",
              "      <td>2017-01-18 20:58:58+00:00</td>\n",
              "      <td>Business Finance</td>\n",
              "      <td>2017</td>\n",
              "      <td>429400</td>\n",
              "    </tr>\n",
              "    <tr>\n",
              "      <th>1</th>\n",
              "      <td>1113822</td>\n",
              "      <td>Complete GST Course &amp; Certification - Grow You...</td>\n",
              "      <td>https://www.udemy.com/goods-and-services-tax/</td>\n",
              "      <td>True</td>\n",
              "      <td>75</td>\n",
              "      <td>2792</td>\n",
              "      <td>923</td>\n",
              "      <td>274</td>\n",
              "      <td>All Levels</td>\n",
              "      <td>39.0</td>\n",
              "      <td>2017-03-09 16:34:20+00:00</td>\n",
              "      <td>Business Finance</td>\n",
              "      <td>2017</td>\n",
              "      <td>209400</td>\n",
              "    </tr>\n",
              "    <tr>\n",
              "      <th>2</th>\n",
              "      <td>1006314</td>\n",
              "      <td>Financial Modeling for Business Analysts and C...</td>\n",
              "      <td>https://www.udemy.com/financial-modeling-for-b...</td>\n",
              "      <td>True</td>\n",
              "      <td>45</td>\n",
              "      <td>2174</td>\n",
              "      <td>74</td>\n",
              "      <td>51</td>\n",
              "      <td>Intermediate Level</td>\n",
              "      <td>2.5</td>\n",
              "      <td>2016-12-19 19:26:30+00:00</td>\n",
              "      <td>Business Finance</td>\n",
              "      <td>2016</td>\n",
              "      <td>97830</td>\n",
              "    </tr>\n",
              "  </tbody>\n",
              "</table>\n",
              "</div>\n",
              "      <button class=\"colab-df-convert\" onclick=\"convertToInteractive('df-98da19cc-c970-41bf-8398-25fba5c415de')\"\n",
              "              title=\"Convert this dataframe to an interactive table.\"\n",
              "              style=\"display:none;\">\n",
              "        \n",
              "  <svg xmlns=\"http://www.w3.org/2000/svg\" height=\"24px\"viewBox=\"0 0 24 24\"\n",
              "       width=\"24px\">\n",
              "    <path d=\"M0 0h24v24H0V0z\" fill=\"none\"/>\n",
              "    <path d=\"M18.56 5.44l.94 2.06.94-2.06 2.06-.94-2.06-.94-.94-2.06-.94 2.06-2.06.94zm-11 1L8.5 8.5l.94-2.06 2.06-.94-2.06-.94L8.5 2.5l-.94 2.06-2.06.94zm10 10l.94 2.06.94-2.06 2.06-.94-2.06-.94-.94-2.06-.94 2.06-2.06.94z\"/><path d=\"M17.41 7.96l-1.37-1.37c-.4-.4-.92-.59-1.43-.59-.52 0-1.04.2-1.43.59L10.3 9.45l-7.72 7.72c-.78.78-.78 2.05 0 2.83L4 21.41c.39.39.9.59 1.41.59.51 0 1.02-.2 1.41-.59l7.78-7.78 2.81-2.81c.8-.78.8-2.07 0-2.86zM5.41 20L4 18.59l7.72-7.72 1.47 1.35L5.41 20z\"/>\n",
              "  </svg>\n",
              "      </button>\n",
              "      \n",
              "  <style>\n",
              "    .colab-df-container {\n",
              "      display:flex;\n",
              "      flex-wrap:wrap;\n",
              "      gap: 12px;\n",
              "    }\n",
              "\n",
              "    .colab-df-convert {\n",
              "      background-color: #E8F0FE;\n",
              "      border: none;\n",
              "      border-radius: 50%;\n",
              "      cursor: pointer;\n",
              "      display: none;\n",
              "      fill: #1967D2;\n",
              "      height: 32px;\n",
              "      padding: 0 0 0 0;\n",
              "      width: 32px;\n",
              "    }\n",
              "\n",
              "    .colab-df-convert:hover {\n",
              "      background-color: #E2EBFA;\n",
              "      box-shadow: 0px 1px 2px rgba(60, 64, 67, 0.3), 0px 1px 3px 1px rgba(60, 64, 67, 0.15);\n",
              "      fill: #174EA6;\n",
              "    }\n",
              "\n",
              "    [theme=dark] .colab-df-convert {\n",
              "      background-color: #3B4455;\n",
              "      fill: #D2E3FC;\n",
              "    }\n",
              "\n",
              "    [theme=dark] .colab-df-convert:hover {\n",
              "      background-color: #434B5C;\n",
              "      box-shadow: 0px 1px 3px 1px rgba(0, 0, 0, 0.15);\n",
              "      filter: drop-shadow(0px 1px 2px rgba(0, 0, 0, 0.3));\n",
              "      fill: #FFFFFF;\n",
              "    }\n",
              "  </style>\n",
              "\n",
              "      <script>\n",
              "        const buttonEl =\n",
              "          document.querySelector('#df-98da19cc-c970-41bf-8398-25fba5c415de button.colab-df-convert');\n",
              "        buttonEl.style.display =\n",
              "          google.colab.kernel.accessAllowed ? 'block' : 'none';\n",
              "\n",
              "        async function convertToInteractive(key) {\n",
              "          const element = document.querySelector('#df-98da19cc-c970-41bf-8398-25fba5c415de');\n",
              "          const dataTable =\n",
              "            await google.colab.kernel.invokeFunction('convertToInteractive',\n",
              "                                                     [key], {});\n",
              "          if (!dataTable) return;\n",
              "\n",
              "          const docLinkHtml = 'Like what you see? Visit the ' +\n",
              "            '<a target=\"_blank\" href=https://colab.research.google.com/notebooks/data_table.ipynb>data table notebook</a>'\n",
              "            + ' to learn more about interactive tables.';\n",
              "          element.innerHTML = '';\n",
              "          dataTable['output_type'] = 'display_data';\n",
              "          await google.colab.output.renderOutput(dataTable, element);\n",
              "          const docLink = document.createElement('div');\n",
              "          docLink.innerHTML = docLinkHtml;\n",
              "          element.appendChild(docLink);\n",
              "        }\n",
              "      </script>\n",
              "    </div>\n",
              "  </div>\n",
              "  "
            ]
          },
          "metadata": {},
          "execution_count": 57
        }
      ]
    },
    {
      "cell_type": "code",
      "source": [
        "yearly_data = (df_update\n",
        "                .groupby('year')\n",
        "                .agg(num_cust=('num_subscribers','sum'),\n",
        "                     total_revenue=('total_revenue', 'sum'))\n",
        "                .reset_index())\n",
        "\n",
        "yearly_data\n"
      ],
      "metadata": {
        "colab": {
          "base_uri": "https://localhost:8080/",
          "height": 269
        },
        "id": "RRp7oZT736Tc",
        "outputId": "9d51a911-c7d8-4b3a-b067-37cef30b4d59"
      },
      "execution_count": null,
      "outputs": [
        {
          "output_type": "execute_result",
          "data": {
            "text/plain": [
              "   year  num_cust  total_revenue\n",
              "0  2011    119028       11643420\n",
              "1  2012    555339       11773470\n",
              "2  2013   1680153       69405820\n",
              "3  2014   1930406      106939045\n",
              "4  2015   3475324      314510395\n",
              "5  2016   2966644      276633190\n",
              "6  2017    988941       90769600"
            ],
            "text/html": [
              "\n",
              "  <div id=\"df-5a4cbeab-d74c-4fea-bf4c-c0a229d4c691\">\n",
              "    <div class=\"colab-df-container\">\n",
              "      <div>\n",
              "<style scoped>\n",
              "    .dataframe tbody tr th:only-of-type {\n",
              "        vertical-align: middle;\n",
              "    }\n",
              "\n",
              "    .dataframe tbody tr th {\n",
              "        vertical-align: top;\n",
              "    }\n",
              "\n",
              "    .dataframe thead th {\n",
              "        text-align: right;\n",
              "    }\n",
              "</style>\n",
              "<table border=\"1\" class=\"dataframe\">\n",
              "  <thead>\n",
              "    <tr style=\"text-align: right;\">\n",
              "      <th></th>\n",
              "      <th>year</th>\n",
              "      <th>num_cust</th>\n",
              "      <th>total_revenue</th>\n",
              "    </tr>\n",
              "  </thead>\n",
              "  <tbody>\n",
              "    <tr>\n",
              "      <th>0</th>\n",
              "      <td>2011</td>\n",
              "      <td>119028</td>\n",
              "      <td>11643420</td>\n",
              "    </tr>\n",
              "    <tr>\n",
              "      <th>1</th>\n",
              "      <td>2012</td>\n",
              "      <td>555339</td>\n",
              "      <td>11773470</td>\n",
              "    </tr>\n",
              "    <tr>\n",
              "      <th>2</th>\n",
              "      <td>2013</td>\n",
              "      <td>1680153</td>\n",
              "      <td>69405820</td>\n",
              "    </tr>\n",
              "    <tr>\n",
              "      <th>3</th>\n",
              "      <td>2014</td>\n",
              "      <td>1930406</td>\n",
              "      <td>106939045</td>\n",
              "    </tr>\n",
              "    <tr>\n",
              "      <th>4</th>\n",
              "      <td>2015</td>\n",
              "      <td>3475324</td>\n",
              "      <td>314510395</td>\n",
              "    </tr>\n",
              "    <tr>\n",
              "      <th>5</th>\n",
              "      <td>2016</td>\n",
              "      <td>2966644</td>\n",
              "      <td>276633190</td>\n",
              "    </tr>\n",
              "    <tr>\n",
              "      <th>6</th>\n",
              "      <td>2017</td>\n",
              "      <td>988941</td>\n",
              "      <td>90769600</td>\n",
              "    </tr>\n",
              "  </tbody>\n",
              "</table>\n",
              "</div>\n",
              "      <button class=\"colab-df-convert\" onclick=\"convertToInteractive('df-5a4cbeab-d74c-4fea-bf4c-c0a229d4c691')\"\n",
              "              title=\"Convert this dataframe to an interactive table.\"\n",
              "              style=\"display:none;\">\n",
              "        \n",
              "  <svg xmlns=\"http://www.w3.org/2000/svg\" height=\"24px\"viewBox=\"0 0 24 24\"\n",
              "       width=\"24px\">\n",
              "    <path d=\"M0 0h24v24H0V0z\" fill=\"none\"/>\n",
              "    <path d=\"M18.56 5.44l.94 2.06.94-2.06 2.06-.94-2.06-.94-.94-2.06-.94 2.06-2.06.94zm-11 1L8.5 8.5l.94-2.06 2.06-.94-2.06-.94L8.5 2.5l-.94 2.06-2.06.94zm10 10l.94 2.06.94-2.06 2.06-.94-2.06-.94-.94-2.06-.94 2.06-2.06.94z\"/><path d=\"M17.41 7.96l-1.37-1.37c-.4-.4-.92-.59-1.43-.59-.52 0-1.04.2-1.43.59L10.3 9.45l-7.72 7.72c-.78.78-.78 2.05 0 2.83L4 21.41c.39.39.9.59 1.41.59.51 0 1.02-.2 1.41-.59l7.78-7.78 2.81-2.81c.8-.78.8-2.07 0-2.86zM5.41 20L4 18.59l7.72-7.72 1.47 1.35L5.41 20z\"/>\n",
              "  </svg>\n",
              "      </button>\n",
              "      \n",
              "  <style>\n",
              "    .colab-df-container {\n",
              "      display:flex;\n",
              "      flex-wrap:wrap;\n",
              "      gap: 12px;\n",
              "    }\n",
              "\n",
              "    .colab-df-convert {\n",
              "      background-color: #E8F0FE;\n",
              "      border: none;\n",
              "      border-radius: 50%;\n",
              "      cursor: pointer;\n",
              "      display: none;\n",
              "      fill: #1967D2;\n",
              "      height: 32px;\n",
              "      padding: 0 0 0 0;\n",
              "      width: 32px;\n",
              "    }\n",
              "\n",
              "    .colab-df-convert:hover {\n",
              "      background-color: #E2EBFA;\n",
              "      box-shadow: 0px 1px 2px rgba(60, 64, 67, 0.3), 0px 1px 3px 1px rgba(60, 64, 67, 0.15);\n",
              "      fill: #174EA6;\n",
              "    }\n",
              "\n",
              "    [theme=dark] .colab-df-convert {\n",
              "      background-color: #3B4455;\n",
              "      fill: #D2E3FC;\n",
              "    }\n",
              "\n",
              "    [theme=dark] .colab-df-convert:hover {\n",
              "      background-color: #434B5C;\n",
              "      box-shadow: 0px 1px 3px 1px rgba(0, 0, 0, 0.15);\n",
              "      filter: drop-shadow(0px 1px 2px rgba(0, 0, 0, 0.3));\n",
              "      fill: #FFFFFF;\n",
              "    }\n",
              "  </style>\n",
              "\n",
              "      <script>\n",
              "        const buttonEl =\n",
              "          document.querySelector('#df-5a4cbeab-d74c-4fea-bf4c-c0a229d4c691 button.colab-df-convert');\n",
              "        buttonEl.style.display =\n",
              "          google.colab.kernel.accessAllowed ? 'block' : 'none';\n",
              "\n",
              "        async function convertToInteractive(key) {\n",
              "          const element = document.querySelector('#df-5a4cbeab-d74c-4fea-bf4c-c0a229d4c691');\n",
              "          const dataTable =\n",
              "            await google.colab.kernel.invokeFunction('convertToInteractive',\n",
              "                                                     [key], {});\n",
              "          if (!dataTable) return;\n",
              "\n",
              "          const docLinkHtml = 'Like what you see? Visit the ' +\n",
              "            '<a target=\"_blank\" href=https://colab.research.google.com/notebooks/data_table.ipynb>data table notebook</a>'\n",
              "            + ' to learn more about interactive tables.';\n",
              "          element.innerHTML = '';\n",
              "          dataTable['output_type'] = 'display_data';\n",
              "          await google.colab.output.renderOutput(dataTable, element);\n",
              "          const docLink = document.createElement('div');\n",
              "          docLink.innerHTML = docLinkHtml;\n",
              "          element.appendChild(docLink);\n",
              "        }\n",
              "      </script>\n",
              "    </div>\n",
              "  </div>\n",
              "  "
            ]
          },
          "metadata": {},
          "execution_count": 58
        }
      ]
    },
    {
      "cell_type": "code",
      "source": [
        "# omzet progression\n",
        "plt.figure(figsize=(12,6))\n",
        "sns.lineplot(data=yearly_data,\n",
        "             x='year',\n",
        "             y='total_revenue')\n",
        "plt.title('Total Revenue Course Throughout The Year', fontsize=18)\n",
        "plt.xlabel('Year', fontsize=12)\n",
        "plt.ylabel('Total Revenue', fontsize=12);"
      ],
      "metadata": {
        "colab": {
          "base_uri": "https://localhost:8080/",
          "height": 411
        },
        "id": "o1W_dtMe6lTd",
        "outputId": "3c752f31-6e78-47dc-8a18-ee202cf0d819"
      },
      "execution_count": null,
      "outputs": [
        {
          "output_type": "display_data",
          "data": {
            "text/plain": [
              "<Figure size 864x432 with 1 Axes>"
            ],
            "image/png": "[encoded data removed]"
          },
          "metadata": {
            "needs_background": "light"
          }
        }
      ]
    },
    {
      "cell_type": "markdown",
      "source": [
        "The total revenue for 2017 has decreased. This is a domino effect of the 2016 surge in the number of courses but a reduction in new subscribers. As a result, there were considerably fewer subscribers in 2017 and total revenue dropped sharply."
      ],
      "metadata": {
        "id": "7y_bOtSLSUfo"
      }
    },
    {
      "cell_type": "markdown",
      "source": [
        "**7.Course Subjects with The Most Revenue**"
      ],
      "metadata": {
        "id": "68pxuXpdZq1C"
      }
    },
    {
      "cell_type": "code",
      "source": [
        "top_revenue = (df_update\n",
        "            .groupby('subject') \n",
        "            .agg(num_revenue=('total_revenue', 'sum'))\n",
        "            .reset_index()\n",
        "            .sort_values('num_revenue',ascending=False)\n",
        "            .head(10)\n",
        "            )\n",
        "top_revenue"
      ],
      "metadata": {
        "colab": {
          "base_uri": "https://localhost:8080/",
          "height": 175
        },
        "id": "7RyAJItBYwcn",
        "outputId": "f0d83133-84b3-40ad-d14e-f8e278c06632"
      },
      "execution_count": null,
      "outputs": [
        {
          "output_type": "execute_result",
          "data": {
            "text/plain": [
              "               subject  num_revenue\n",
              "3      Web Development    627597400\n",
              "0     Business Finance    123735315\n",
              "1       Graphic Design     76983170\n",
              "2  Musical Instruments     53359055"
            ],
            "text/html": [
              "\n",
              "  <div id=\"df-3a99cb51-b544-4c7d-bd91-f47694980115\">\n",
              "    <div class=\"colab-df-container\">\n",
              "      <div>\n",
              "<style scoped>\n",
              "    .dataframe tbody tr th:only-of-type {\n",
              "        vertical-align: middle;\n",
              "    }\n",
              "\n",
              "    .dataframe tbody tr th {\n",
              "        vertical-align: top;\n",
              "    }\n",
              "\n",
              "    .dataframe thead th {\n",
              "        text-align: right;\n",
              "    }\n",
              "</style>\n",
              "<table border=\"1\" class=\"dataframe\">\n",
              "  <thead>\n",
              "    <tr style=\"text-align: right;\">\n",
              "      <th></th>\n",
              "      <th>subject</th>\n",
              "      <th>num_revenue</th>\n",
              "    </tr>\n",
              "  </thead>\n",
              "  <tbody>\n",
              "    <tr>\n",
              "      <th>3</th>\n",
              "      <td>Web Development</td>\n",
              "      <td>627597400</td>\n",
              "    </tr>\n",
              "    <tr>\n",
              "      <th>0</th>\n",
              "      <td>Business Finance</td>\n",
              "      <td>123735315</td>\n",
              "    </tr>\n",
              "    <tr>\n",
              "      <th>1</th>\n",
              "      <td>Graphic Design</td>\n",
              "      <td>76983170</td>\n",
              "    </tr>\n",
              "    <tr>\n",
              "      <th>2</th>\n",
              "      <td>Musical Instruments</td>\n",
              "      <td>53359055</td>\n",
              "    </tr>\n",
              "  </tbody>\n",
              "</table>\n",
              "</div>\n",
              "      <button class=\"colab-df-convert\" onclick=\"convertToInteractive('df-3a99cb51-b544-4c7d-bd91-f47694980115')\"\n",
              "              title=\"Convert this dataframe to an interactive table.\"\n",
              "              style=\"display:none;\">\n",
              "        \n",
              "  <svg xmlns=\"http://www.w3.org/2000/svg\" height=\"24px\"viewBox=\"0 0 24 24\"\n",
              "       width=\"24px\">\n",
              "    <path d=\"M0 0h24v24H0V0z\" fill=\"none\"/>\n",
              "    <path d=\"M18.56 5.44l.94 2.06.94-2.06 2.06-.94-2.06-.94-.94-2.06-.94 2.06-2.06.94zm-11 1L8.5 8.5l.94-2.06 2.06-.94-2.06-.94L8.5 2.5l-.94 2.06-2.06.94zm10 10l.94 2.06.94-2.06 2.06-.94-2.06-.94-.94-2.06-.94 2.06-2.06.94z\"/><path d=\"M17.41 7.96l-1.37-1.37c-.4-.4-.92-.59-1.43-.59-.52 0-1.04.2-1.43.59L10.3 9.45l-7.72 7.72c-.78.78-.78 2.05 0 2.83L4 21.41c.39.39.9.59 1.41.59.51 0 1.02-.2 1.41-.59l7.78-7.78 2.81-2.81c.8-.78.8-2.07 0-2.86zM5.41 20L4 18.59l7.72-7.72 1.47 1.35L5.41 20z\"/>\n",
              "  </svg>\n",
              "      </button>\n",
              "      \n",
              "  <style>\n",
              "    .colab-df-container {\n",
              "      display:flex;\n",
              "      flex-wrap:wrap;\n",
              "      gap: 12px;\n",
              "    }\n",
              "\n",
              "    .colab-df-convert {\n",
              "      background-color: #E8F0FE;\n",
              "      border: none;\n",
              "      border-radius: 50%;\n",
              "      cursor: pointer;\n",
              "      display: none;\n",
              "      fill: #1967D2;\n",
              "      height: 32px;\n",
              "      padding: 0 0 0 0;\n",
              "      width: 32px;\n",
              "    }\n",
              "\n",
              "    .colab-df-convert:hover {\n",
              "      background-color: #E2EBFA;\n",
              "      box-shadow: 0px 1px 2px rgba(60, 64, 67, 0.3), 0px 1px 3px 1px rgba(60, 64, 67, 0.15);\n",
              "      fill: #174EA6;\n",
              "    }\n",
              "\n",
              "    [theme=dark] .colab-df-convert {\n",
              "      background-color: #3B4455;\n",
              "      fill: #D2E3FC;\n",
              "    }\n",
              "\n",
              "    [theme=dark] .colab-df-convert:hover {\n",
              "      background-color: #434B5C;\n",
              "      box-shadow: 0px 1px 3px 1px rgba(0, 0, 0, 0.15);\n",
              "      filter: drop-shadow(0px 1px 2px rgba(0, 0, 0, 0.3));\n",
              "      fill: #FFFFFF;\n",
              "    }\n",
              "  </style>\n",
              "\n",
              "      <script>\n",
              "        const buttonEl =\n",
              "          document.querySelector('#df-3a99cb51-b544-4c7d-bd91-f47694980115 button.colab-df-convert');\n",
              "        buttonEl.style.display =\n",
              "          google.colab.kernel.accessAllowed ? 'block' : 'none';\n",
              "\n",
              "        async function convertToInteractive(key) {\n",
              "          const element = document.querySelector('#df-3a99cb51-b544-4c7d-bd91-f47694980115');\n",
              "          const dataTable =\n",
              "            await google.colab.kernel.invokeFunction('convertToInteractive',\n",
              "                                                     [key], {});\n",
              "          if (!dataTable) return;\n",
              "\n",
              "          const docLinkHtml = 'Like what you see? Visit the ' +\n",
              "            '<a target=\"_blank\" href=https://colab.research.google.com/notebooks/data_table.ipynb>data table notebook</a>'\n",
              "            + ' to learn more about interactive tables.';\n",
              "          element.innerHTML = '';\n",
              "          dataTable['output_type'] = 'display_data';\n",
              "          await google.colab.output.renderOutput(dataTable, element);\n",
              "          const docLink = document.createElement('div');\n",
              "          docLink.innerHTML = docLinkHtml;\n",
              "          element.appendChild(docLink);\n",
              "        }\n",
              "      </script>\n",
              "    </div>\n",
              "  </div>\n",
              "  "
            ]
          },
          "metadata": {},
          "execution_count": 60
        }
      ]
    },
    {
      "cell_type": "code",
      "source": [
        "plt.figure(figsize=(12,6))\n",
        "sns.barplot(data=top_revenue, x='num_revenue', y='subject')\n",
        "plt.title('Udemy Course Topics with The Most Revenue', fontsize=18)\n",
        "plt.xlabel('Total Revenue', fontsize=12)\n",
        "plt.ylabel('Subject', fontsize=12);\n"
      ],
      "metadata": {
        "colab": {
          "base_uri": "https://localhost:8080/",
          "height": 411
        },
        "id": "XUGGg8HOY_Sy",
        "outputId": "8ac5c752-c6dd-41cd-8e30-5691897606a6"
      },
      "execution_count": null,
      "outputs": [
        {
          "output_type": "display_data",
          "data": {
            "text/plain": [
              "<Figure size 864x432 with 1 Axes>"
            ],
            "image/png": "[encoded data removed]"
          },
          "metadata": {
            "needs_background": "light"
          }
        }
      ]
    },
    {
      "cell_type": "markdown",
      "source": [
        "The majority of Udemy's revenue came from courses on the Web Development category, as expected. The gap is also significant."
      ],
      "metadata": {
        "id": "wgrRkR8-lSvW"
      }
    },
    {
      "cell_type": "markdown",
      "source": [
        "##**Part 6: Conclusion and Recommendation**"
      ],
      "metadata": {
        "id": "QlK4l9BpVs-l"
      }
    },
    {
      "cell_type": "markdown",
      "source": [
        "**Key Findings and Insight**\n",
        "\n",
        "- Web Development has become our most popular course category, with the most subscribers, reviews, and revenue overall.\n",
        "- Despite the fact that we also get second highest revenue from the Business Finance category, there are a lot of courses with no reviews or subscribers.\n",
        "- We discovered a significant decrease in total courses in 2017. This is due to the total number of courses offered in 2016, while our subscription base is decreasing. This also resulted in a significant drop in our profit in 2017.\n",
        "\n",
        "**Recommendation**\n",
        "- Offer mixed bundling for each category or cross-category to reduce total courses with 0 subscribers.\n",
        "- Pay special attention to courses that have no reviews or subscribers. Since we assume the courses were recently published, we should dedicate special space on our front page to promote new courses in order to attract more attention.\n",
        "- To regularly examine the course's quality on our platform in the future for the courses that failed to perform. \n",
        "- Provide a special discount to new subscribers while rewarding loyal subscribers with a coupon for a basic course in a certain topic when they successfully invite others using an affiliate link."
      ],
      "metadata": {
        "id": "lDjUdU5MdLIc"
      }
    }
  ]
}